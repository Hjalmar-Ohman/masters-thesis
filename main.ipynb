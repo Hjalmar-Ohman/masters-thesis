{
 "cells": [
  {
   "cell_type": "markdown",
   "metadata": {},
   "source": [
    "### 1. Import"
   ]
  },
  {
   "cell_type": "code",
   "execution_count": 1,
   "metadata": {},
   "outputs": [],
   "source": [
    "import os\n",
    "import json\n",
    "\n",
    "from langchain_openai import ChatOpenAI\n",
    "from ragas.llms import LangchainLLMWrapper\n",
    "\n",
    "from document_processor import TextProcessor, ImageProcessor, PageImageProcessor, ImageTextualSummaryProcessor\n",
    "from multimodal_rag import MultimodalRAG\n",
    "from embedder import OpenAIEmbedder, ColPaliEmbedder\n",
    "from pdf_to_qa import generate_qa_for_pdf\n",
    "from evaluation import evaluate_generation, compute_mrr_at_k, compute_recall_at_k\n",
    "from datasets import load_dataset\n",
    "from chartQAloader import generate_chartQA_pdf_and_json"
   ]
  },
  {
   "cell_type": "markdown",
   "metadata": {},
   "source": [
    "### 2. Configuration"
   ]
  },
  {
   "cell_type": "code",
   "execution_count": null,
   "metadata": {},
   "outputs": [
    {
     "data": {
      "application/vnd.jupyter.widget-view+json": {
       "model_id": "215af16ef21f4196b6f350cb0f3fbc80",
       "version_major": 2,
       "version_minor": 0
      },
      "text/plain": [
       "Loading checkpoint shards:   0%|          | 0/2 [00:00<?, ?it/s]"
      ]
     },
     "metadata": {},
     "output_type": "display_data"
    }
   ],
   "source": [
    "#PDF_FILE = \"knowledge/subset_riksbanken.pdf\"\n",
    "#PDF_FILE = \"knowledge/ChartQA_Evaluation_Set.pdf\"\n",
    "PDF_FILE = \"knowledge/subset_ChartQA_Evaluation_Set.pdf\"\n",
    "\n",
    "#text_processor = TextProcessor(OpenAIEmbedder())\n",
    "#image_processor = ImageProcessor(ColPaliEmbedder())\n",
    "page_image_processor = PageImageProcessor(ColPaliEmbedder())\n",
    "#image_textual_summary_processor = ImageTextualSummaryProcessor(OpenAIEmbedder(), no=1) #Select no 3 for chartQA emb. 1 or 2 for other emb.\n",
    "\n",
    "rag = MultimodalRAG([page_image_processor], PDF_FILE)\n",
    "evaluator_llm = LangchainLLMWrapper(ChatOpenAI(model=\"gpt-4o-mini\")) # For Ragas evaluation"
   ]
  },
  {
   "cell_type": "markdown",
   "metadata": {},
   "source": [
    "### 3. Generate Dataset"
   ]
  },
  {
   "cell_type": "markdown",
   "metadata": {},
   "source": [
    "#### ChartQA"
   ]
  },
  {
   "cell_type": "code",
   "execution_count": null,
   "metadata": {},
   "outputs": [
    {
     "name": "stderr",
     "output_type": "stream",
     "text": [
      "Processing Charts: 100%|██████████| 10/10 [00:01<00:00,  8.42chart/s]"
     ]
    },
    {
     "name": "stdout",
     "output_type": "stream",
     "text": [
      "PDF saved as knowledge/subset_ChartQA_Evaluation_Set.pdf\n",
      "JSON file saved as QA_subset_ChartQA_Evaluation_Set.json\n"
     ]
    },
    {
     "name": "stderr",
     "output_type": "stream",
     "text": [
      "\n"
     ]
    }
   ],
   "source": [
    "# Load ChartQA from huggingface\n",
    "dataset = load_dataset('lmms-lab/ChartQA', split='test')\n",
    "subset_dataset = dataset.select(range(10))\n",
    "\n",
    "# Generate PDF of ChartQA and JSON dataset\n",
    "generate_chartQA_pdf_and_json(subset_dataset, pdf_output_path='knowledge/subset_ChartQA_Evaluation_Set.pdf', json_output_path='QA_subset_ChartQA_Evaluation_Set.json')"
   ]
  },
  {
   "cell_type": "markdown",
   "metadata": {},
   "source": [
    "#### CoinQA"
   ]
  },
  {
   "cell_type": "code",
   "execution_count": null,
   "metadata": {},
   "outputs": [
    {
     "name": "stdout",
     "output_type": "stream",
     "text": [
      "Using existing QA file: QA_subset_ChartQA_Evaluation_Set.json\n"
     ]
    }
   ],
   "source": [
    "# Check if QA file already exists\n",
    "qa_filepath = \"QA_\" + os.path.basename(PDF_FILE).replace('.pdf', '.json')\n",
    "\n",
    "if os.path.exists(qa_filepath):\n",
    "    qa_path = qa_filepath\n",
    "    print(f\"Using existing QA file: {qa_path}\")\n",
    "else:\n",
    "    qa_path = generate_qa_for_pdf(PDF_FILE)\n",
    "    print(f\"Generated new QA file: {qa_path}\")"
   ]
  },
  {
   "cell_type": "markdown",
   "metadata": {},
   "source": [
    "### 4. Answering the QA"
   ]
  },
  {
   "cell_type": "code",
   "execution_count": 6,
   "metadata": {},
   "outputs": [
    {
     "name": "stdout",
     "output_type": "stream",
     "text": [
      "Generated new RAG generated answers file: rag_generated_answers_QA_subset_ChartQA_Evaluation_Set.json\n"
     ]
    }
   ],
   "source": [
    "with open(qa_path, 'r', encoding='utf-8') as f:\n",
    "    qa_data = json.load(f)\n",
    "\n",
    "# Generate dataset\n",
    "rag_generated_answers = []\n",
    "\n",
    "# Check if generated answers file already exists\n",
    "rag_answers_path = \"rag_generated_answers_\" + os.path.basename(qa_path)\n",
    "\n",
    "if os.path.exists(rag_answers_path):\n",
    "    rag_generated_answers = json.load(open(rag_answers_path, 'r', encoding='utf-8'))\n",
    "    print(f\"Using existing RAG generated answers file: {rag_answers_path}\")\n",
    "else:\n",
    "    for qa in qa_data:\n",
    "        query = qa[\"question\"]\n",
    "        reference = qa[\"answer\"]\n",
    "\n",
    "        relevant_docs = rag.get_most_relevant_docs(query, top_k=3)\n",
    "        response = rag.generate_answer(query, relevant_docs)\n",
    "        rag_generated_answers.append(\n",
    "            {\n",
    "                \"query\":query,\n",
    "                \"retrieved_contexts\":relevant_docs,\n",
    "                \"generated_answer\":response,\n",
    "                \"true_answer\":reference\n",
    "            }\n",
    "        )\n",
    "\n",
    "    # Save the dataset to a JSON file\n",
    "    output_dataset_file = \"rag_generated_answers_\" + os.path.basename(qa_path)\n",
    "\n",
    "    with open(output_dataset_file, 'w', encoding='utf-8') as f:\n",
    "        json.dump(rag_generated_answers, f, ensure_ascii=False, indent=4)\n",
    "    print(f\"Generated new RAG generated answers file: {output_dataset_file}\")"
   ]
  },
  {
   "cell_type": "markdown",
   "metadata": {},
   "source": [
    "### 5. Evaluate Retrieval"
   ]
  },
  {
   "cell_type": "code",
   "execution_count": null,
   "metadata": {},
   "outputs": [],
   "source": [
    "all_real_pages, all_retrieved_pages = [], []\n",
    "\n",
    "for rag_answer in rag_generated_answers:\n",
    "    real_page = next(\n",
    "        item[\"page_number\"] for item in qa_data if item[\"question\"] == rag_answer[\"query\"]\n",
    "    )\n",
    "    retrieved_pages = [doc[\"page_number\"] for doc in rag_answer[\"retrieved_contexts\"]]\n",
    "    \n",
    "    all_real_pages.append(real_page)\n",
    "    all_retrieved_pages.append(retrieved_pages)\n",
    "\n",
    "for k in [3, 5]:\n",
    "    mrr = compute_mrr_at_k(all_retrieved_pages, all_real_pages, k)\n",
    "    recall = compute_recall_at_k(all_retrieved_pages, all_real_pages, k)\n",
    "    print(f\"MRR@{k}: {mrr}\")\n",
    "    print(f\"Recall@{k}: {recall}\")\n"
   ]
  },
  {
   "cell_type": "markdown",
   "metadata": {},
   "source": [
    "### 6. Evaluate Generation"
   ]
  },
  {
   "cell_type": "code",
   "execution_count": null,
   "metadata": {},
   "outputs": [],
   "source": [
    "faithfulness_and_relevance = evaluate_generation(rag_generated_answers, evaluator_llm)\n",
    "print(faithfulness_and_relevance)"
   ]
  }
 ],
 "metadata": {
  "kernelspec": {
   "display_name": "venv",
   "language": "python",
   "name": "python3"
  },
  "language_info": {
   "codemirror_mode": {
    "name": "ipython",
    "version": 3
   },
   "file_extension": ".py",
   "mimetype": "text/x-python",
   "name": "python",
   "nbconvert_exporter": "python",
   "pygments_lexer": "ipython3",
   "version": "3.10.16"
  }
 },
 "nbformat": 4,
 "nbformat_minor": 2
}
