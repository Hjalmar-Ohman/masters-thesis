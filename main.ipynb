{
 "cells": [
  {
   "cell_type": "markdown",
   "metadata": {},
   "source": [
    "### 1. Import"
   ]
  },
  {
   "cell_type": "code",
   "execution_count": 1,
   "metadata": {},
   "outputs": [],
   "source": [
    "import os\n",
    "import json\n",
    "\n",
    "from langchain_openai import ChatOpenAI\n",
    "from ragas.llms import LangchainLLMWrapper\n",
    "from datasets import load_dataset\n",
    "\n",
    "from document_processor import TextProcessor, ImageProcessor, PageImageProcessor, ImageTextualSummaryProcessor\n",
    "from multimodal_rag import MultimodalRAG\n",
    "from embedder import OpenAIEmbedder, ColPaliEmbedder\n",
    "from pdf_to_qa import generate_qa_for_pdf, generate_chartQA_pdf_and_json\n",
    "from evaluation import evaluate_generation, compute_mrr_at_k, compute_recall_at_k, compute_precision_at_k, compute_f1_score, compute_map_at_k"
   ]
  },
  {
   "cell_type": "markdown",
   "metadata": {},
   "source": [
    "### 2. Configuration"
   ]
  },
  {
   "cell_type": "code",
   "execution_count": null,
   "metadata": {},
   "outputs": [
    {
     "data": {
      "application/vnd.jupyter.widget-view+json": {
       "model_id": "00eb442a87734023b34ea9f0f684f8de",
       "version_major": 2,
       "version_minor": 0
      },
      "text/plain": [
       "Loading checkpoint shards:   0%|          | 0/2 [00:00<?, ?it/s]"
      ]
     },
     "metadata": {},
     "output_type": "display_data"
    }
   ],
   "source": [
    "dataset = \"CoinQA\"\n",
    "k = 10\n",
    "\n",
    "if dataset.upper() == \"COINQA\":\n",
    "    PDF_FILE = \"knowledge/subset_riksbanken.pdf\"\n",
    "elif dataset.upper() == \"CHARTQA\":\n",
    "    PDF_FILE = \"knowledge/subset_ChartQA.pdf\"\n",
    "else:\n",
    "    raise ValueError(\"Dataset not supported\")\n",
    "\n",
    "text_processor = TextProcessor(OpenAIEmbedder())\n",
    "image_processor = ImageProcessor(ColPaliEmbedder(), dataset)\n",
    "#page_image_processor = PageImageProcessor(ColPaliEmbedder())\n",
    "#image_textual_summary_processor = ImageTextualSummaryProcessor(OpenAIEmbedder(), dataset)\n",
    "\n",
    "rag = MultimodalRAG([text_processor,image_processor], PDF_FILE)\n",
    "evaluator_llm = LangchainLLMWrapper(ChatOpenAI(model=\"gpt-4o-mini\")) # For Ragas evaluation\n",
    "\n"
   ]
  },
  {
   "cell_type": "markdown",
   "metadata": {},
   "source": [
    "### 3. Generate Dataset"
   ]
  },
  {
   "cell_type": "code",
   "execution_count": 3,
   "metadata": {},
   "outputs": [
    {
     "name": "stdout",
     "output_type": "stream",
     "text": [
      "Using existing QA file: json_files/QA_subset20_riksbanken.json\n"
     ]
    }
   ],
   "source": [
    "# Check if QA file already exists\n",
    "qa_filepath = \"json_files/QA_\" + os.path.basename(PDF_FILE).replace('.pdf', '.json')\n",
    "\n",
    "if os.path.exists(qa_filepath):\n",
    "    print(f\"Using existing QA file: {qa_filepath}\")\n",
    "\n",
    "elif dataset.upper() == \"COINQA\":\n",
    "    generate_qa_for_pdf(PDF_FILE, json_output_path=qa_filepath)\n",
    "    print(f\"Generated new CoinQA file: {qa_filepath}\")\n",
    "\n",
    "elif dataset.upper() == \"CHARTQA\":\n",
    "    chartqa = load_dataset('lmms-lab/ChartQA', split='test')\n",
    "    subset_chartqa = chartqa.select(range(20))\n",
    "    \n",
    "    generate_chartQA_pdf_and_json(subset_chartqa, pdf_output_path=PDF_FILE, json_output_path=qa_filepath)\n",
    "    print(f\"Generated new ChartQA file: {qa_filepath}\")"
   ]
  },
  {
   "cell_type": "markdown",
   "metadata": {},
   "source": [
    "### 4. Answering the QA"
   ]
  },
  {
   "cell_type": "code",
   "execution_count": 4,
   "metadata": {},
   "outputs": [
    {
     "ename": "TypeError",
     "evalue": "expected Tensor as element 0 in argument 0, but got list",
     "output_type": "error",
     "traceback": [
      "\u001b[0;31m---------------------------------------------------------------------------\u001b[0m",
      "\u001b[0;31mTypeError\u001b[0m                                 Traceback (most recent call last)",
      "Cell \u001b[0;32mIn[4], line 18\u001b[0m\n\u001b[1;32m     15\u001b[0m query \u001b[38;5;241m=\u001b[39m qa[\u001b[38;5;124m\"\u001b[39m\u001b[38;5;124mquestion\u001b[39m\u001b[38;5;124m\"\u001b[39m]\n\u001b[1;32m     16\u001b[0m reference \u001b[38;5;241m=\u001b[39m qa[\u001b[38;5;124m\"\u001b[39m\u001b[38;5;124manswer\u001b[39m\u001b[38;5;124m\"\u001b[39m]\n\u001b[0;32m---> 18\u001b[0m relevant_docs \u001b[38;5;241m=\u001b[39m \u001b[43mrag\u001b[49m\u001b[38;5;241;43m.\u001b[39;49m\u001b[43mget_most_relevant_docs\u001b[49m\u001b[43m(\u001b[49m\u001b[43mquery\u001b[49m\u001b[43m,\u001b[49m\u001b[43m \u001b[49m\u001b[43mtop_k\u001b[49m\u001b[38;5;241;43m=\u001b[39;49m\u001b[43mk\u001b[49m\u001b[43m)\u001b[49m\n\u001b[1;32m     19\u001b[0m response \u001b[38;5;241m=\u001b[39m rag\u001b[38;5;241m.\u001b[39mgenerate_answer(query, relevant_docs)\n\u001b[1;32m     20\u001b[0m rag_generated_answers\u001b[38;5;241m.\u001b[39mappend(\n\u001b[1;32m     21\u001b[0m     {\n\u001b[1;32m     22\u001b[0m         \u001b[38;5;124m\"\u001b[39m\u001b[38;5;124mquery\u001b[39m\u001b[38;5;124m\"\u001b[39m:query,\n\u001b[0;32m   (...)\u001b[0m\n\u001b[1;32m     26\u001b[0m     }\n\u001b[1;32m     27\u001b[0m )\n",
      "File \u001b[0;32m~/olof/masters-thesis/multimodal_rag.py:59\u001b[0m, in \u001b[0;36mMultimodalRAG.get_most_relevant_docs\u001b[0;34m(self, query, top_k)\u001b[0m\n\u001b[1;32m     57\u001b[0m all_results \u001b[38;5;241m=\u001b[39m []\n\u001b[1;32m     58\u001b[0m \u001b[38;5;28;01mfor\u001b[39;00m processor \u001b[38;5;129;01min\u001b[39;00m \u001b[38;5;28mself\u001b[39m\u001b[38;5;241m.\u001b[39mprocessors:\n\u001b[0;32m---> 59\u001b[0m     results \u001b[38;5;241m=\u001b[39m \u001b[43mprocessor\u001b[49m\u001b[38;5;241;43m.\u001b[39;49m\u001b[43msearch\u001b[49m\u001b[43m(\u001b[49m\u001b[43mquery\u001b[49m\u001b[43m,\u001b[49m\u001b[43m \u001b[49m\u001b[43mtop_k\u001b[49m\u001b[38;5;241;43m=\u001b[39;49m\u001b[43mtop_k\u001b[49m\u001b[43m \u001b[49m\u001b[38;5;241;43m/\u001b[39;49m\u001b[38;5;241;43m/\u001b[39;49m\u001b[43m \u001b[49m\u001b[38;5;28;43mlen\u001b[39;49m\u001b[43m(\u001b[49m\u001b[38;5;28;43mself\u001b[39;49m\u001b[38;5;241;43m.\u001b[39;49m\u001b[43mprocessors\u001b[49m\u001b[43m)\u001b[49m\u001b[43m)\u001b[49m\n\u001b[1;32m     60\u001b[0m     all_results\u001b[38;5;241m.\u001b[39mextend(results)\n\u001b[1;32m     62\u001b[0m sorted_results \u001b[38;5;241m=\u001b[39m \u001b[38;5;28msorted\u001b[39m(all_results, key\u001b[38;5;241m=\u001b[39m\u001b[38;5;28;01mlambda\u001b[39;00m x: x[\u001b[38;5;124m\"\u001b[39m\u001b[38;5;124mscore\u001b[39m\u001b[38;5;124m\"\u001b[39m], reverse\u001b[38;5;241m=\u001b[39m\u001b[38;5;28;01mTrue\u001b[39;00m)\n",
      "File \u001b[0;32m~/olof/masters-thesis/document_processor.py:25\u001b[0m, in \u001b[0;36mDocumentProcessor.search\u001b[0;34m(self, query, top_k)\u001b[0m\n\u001b[1;32m     24\u001b[0m \u001b[38;5;28;01mdef\u001b[39;00m\u001b[38;5;250m \u001b[39m\u001b[38;5;21msearch\u001b[39m(\u001b[38;5;28mself\u001b[39m, query: \u001b[38;5;28mstr\u001b[39m, top_k: \u001b[38;5;28mint\u001b[39m \u001b[38;5;241m=\u001b[39m \u001b[38;5;241m5\u001b[39m) \u001b[38;5;241m-\u001b[39m\u001b[38;5;241m>\u001b[39m List[Dict[\u001b[38;5;28mstr\u001b[39m, Any]]:\n\u001b[0;32m---> 25\u001b[0m     scores, indices \u001b[38;5;241m=\u001b[39m \u001b[38;5;28;43mself\u001b[39;49m\u001b[38;5;241;43m.\u001b[39;49m\u001b[43membedder\u001b[49m\u001b[38;5;241;43m.\u001b[39;49m\u001b[43msearch\u001b[49m\u001b[43m(\u001b[49m\u001b[43mquery\u001b[49m\u001b[43m,\u001b[49m\u001b[43m \u001b[49m\u001b[38;5;28;43mself\u001b[39;49m\u001b[38;5;241;43m.\u001b[39;49m\u001b[43membeddings\u001b[49m\u001b[43m,\u001b[49m\u001b[43m \u001b[49m\u001b[43mtop_k\u001b[49m\u001b[43m)\u001b[49m\n\u001b[1;32m     27\u001b[0m     results \u001b[38;5;241m=\u001b[39m []\n\u001b[1;32m     28\u001b[0m     \u001b[38;5;28;01mfor\u001b[39;00m score, idx \u001b[38;5;129;01min\u001b[39;00m \u001b[38;5;28mzip\u001b[39m(scores[\u001b[38;5;241m0\u001b[39m], indices[\u001b[38;5;241m0\u001b[39m]):\n",
      "File \u001b[0;32m~/olof/masters-thesis/embedder.py:68\u001b[0m, in \u001b[0;36mColPaliEmbedder.search\u001b[0;34m(self, query, candidate_embeddings, top_k)\u001b[0m\n\u001b[1;32m     66\u001b[0m \u001b[38;5;28;01mdef\u001b[39;00m\u001b[38;5;250m \u001b[39m\u001b[38;5;21msearch\u001b[39m(\u001b[38;5;28mself\u001b[39m, query, candidate_embeddings, top_k\u001b[38;5;241m=\u001b[39m\u001b[38;5;241m5\u001b[39m):\n\u001b[1;32m     67\u001b[0m     query_embedding \u001b[38;5;241m=\u001b[39m \u001b[38;5;28mself\u001b[39m\u001b[38;5;241m.\u001b[39membed_text([query])\n\u001b[0;32m---> 68\u001b[0m     scores \u001b[38;5;241m=\u001b[39m \u001b[38;5;28;43mself\u001b[39;49m\u001b[38;5;241;43m.\u001b[39;49m\u001b[43mprocessor\u001b[49m\u001b[38;5;241;43m.\u001b[39;49m\u001b[43mscore_multi_vector\u001b[49m\u001b[43m(\u001b[49m\u001b[43mquery_embedding\u001b[49m\u001b[43m,\u001b[49m\u001b[43m \u001b[49m\u001b[43mcandidate_embeddings\u001b[49m\u001b[43m)\u001b[49m\n\u001b[1;32m     70\u001b[0m     \u001b[38;5;66;03m# Get top-k scores and their indices\u001b[39;00m\n\u001b[1;32m     71\u001b[0m     top_scores, top_indices \u001b[38;5;241m=\u001b[39m torch\u001b[38;5;241m.\u001b[39mtopk(scores, k\u001b[38;5;241m=\u001b[39mtop_k, dim\u001b[38;5;241m=\u001b[39m\u001b[38;5;241m-\u001b[39m\u001b[38;5;241m1\u001b[39m)\n",
      "File \u001b[0;32m~/olof/masters-thesis/venv/lib/python3.10/site-packages/colpali_engine/utils/processing_utils.py:111\u001b[0m, in \u001b[0;36mBaseVisualRetrieverProcessor.score_multi_vector\u001b[0;34m(qs, ps, batch_size, device)\u001b[0m\n\u001b[1;32m    107\u001b[0m qs_batch \u001b[38;5;241m=\u001b[39m torch\u001b[38;5;241m.\u001b[39mnn\u001b[38;5;241m.\u001b[39mutils\u001b[38;5;241m.\u001b[39mrnn\u001b[38;5;241m.\u001b[39mpad_sequence(qs[i : i \u001b[38;5;241m+\u001b[39m batch_size], batch_first\u001b[38;5;241m=\u001b[39m\u001b[38;5;28;01mTrue\u001b[39;00m, padding_value\u001b[38;5;241m=\u001b[39m\u001b[38;5;241m0\u001b[39m)\u001b[38;5;241m.\u001b[39mto(\n\u001b[1;32m    108\u001b[0m     device\n\u001b[1;32m    109\u001b[0m )\n\u001b[1;32m    110\u001b[0m \u001b[38;5;28;01mfor\u001b[39;00m j \u001b[38;5;129;01min\u001b[39;00m \u001b[38;5;28mrange\u001b[39m(\u001b[38;5;241m0\u001b[39m, \u001b[38;5;28mlen\u001b[39m(ps), batch_size):\n\u001b[0;32m--> 111\u001b[0m     ps_batch \u001b[38;5;241m=\u001b[39m \u001b[43mtorch\u001b[49m\u001b[38;5;241;43m.\u001b[39;49m\u001b[43mnn\u001b[49m\u001b[38;5;241;43m.\u001b[39;49m\u001b[43mutils\u001b[49m\u001b[38;5;241;43m.\u001b[39;49m\u001b[43mrnn\u001b[49m\u001b[38;5;241;43m.\u001b[39;49m\u001b[43mpad_sequence\u001b[49m\u001b[43m(\u001b[49m\n\u001b[1;32m    112\u001b[0m \u001b[43m        \u001b[49m\u001b[43mps\u001b[49m\u001b[43m[\u001b[49m\u001b[43mj\u001b[49m\u001b[43m \u001b[49m\u001b[43m:\u001b[49m\u001b[43m \u001b[49m\u001b[43mj\u001b[49m\u001b[43m \u001b[49m\u001b[38;5;241;43m+\u001b[39;49m\u001b[43m \u001b[49m\u001b[43mbatch_size\u001b[49m\u001b[43m]\u001b[49m\u001b[43m,\u001b[49m\u001b[43m \u001b[49m\u001b[43mbatch_first\u001b[49m\u001b[38;5;241;43m=\u001b[39;49m\u001b[38;5;28;43;01mTrue\u001b[39;49;00m\u001b[43m,\u001b[49m\u001b[43m \u001b[49m\u001b[43mpadding_value\u001b[49m\u001b[38;5;241;43m=\u001b[39;49m\u001b[38;5;241;43m0\u001b[39;49m\n\u001b[1;32m    113\u001b[0m \u001b[43m    \u001b[49m\u001b[43m)\u001b[49m\u001b[38;5;241m.\u001b[39mto(device)\n\u001b[1;32m    114\u001b[0m     scores_batch\u001b[38;5;241m.\u001b[39mappend(torch\u001b[38;5;241m.\u001b[39meinsum(\u001b[38;5;124m\"\u001b[39m\u001b[38;5;124mbnd,csd->bcns\u001b[39m\u001b[38;5;124m\"\u001b[39m, qs_batch, ps_batch)\u001b[38;5;241m.\u001b[39mmax(dim\u001b[38;5;241m=\u001b[39m\u001b[38;5;241m3\u001b[39m)[\u001b[38;5;241m0\u001b[39m]\u001b[38;5;241m.\u001b[39msum(dim\u001b[38;5;241m=\u001b[39m\u001b[38;5;241m2\u001b[39m))\n\u001b[1;32m    115\u001b[0m scores_batch \u001b[38;5;241m=\u001b[39m torch\u001b[38;5;241m.\u001b[39mcat(scores_batch, dim\u001b[38;5;241m=\u001b[39m\u001b[38;5;241m1\u001b[39m)\u001b[38;5;241m.\u001b[39mcpu()\n",
      "File \u001b[0;32m~/olof/masters-thesis/venv/lib/python3.10/site-packages/torch/nn/utils/rnn.py:481\u001b[0m, in \u001b[0;36mpad_sequence\u001b[0;34m(sequences, batch_first, padding_value, padding_side)\u001b[0m\n\u001b[1;32m    477\u001b[0m         sequences \u001b[38;5;241m=\u001b[39m sequences\u001b[38;5;241m.\u001b[39munbind(\u001b[38;5;241m0\u001b[39m)  \u001b[38;5;66;03m# type: ignore[assignment]\u001b[39;00m\n\u001b[1;32m    479\u001b[0m \u001b[38;5;66;03m# assuming trailing dimensions and type of all the Tensors\u001b[39;00m\n\u001b[1;32m    480\u001b[0m \u001b[38;5;66;03m# in sequences are same and fetching those from sequences[0]\u001b[39;00m\n\u001b[0;32m--> 481\u001b[0m \u001b[38;5;28;01mreturn\u001b[39;00m \u001b[43mtorch\u001b[49m\u001b[38;5;241;43m.\u001b[39;49m\u001b[43m_C\u001b[49m\u001b[38;5;241;43m.\u001b[39;49m\u001b[43m_nn\u001b[49m\u001b[38;5;241;43m.\u001b[39;49m\u001b[43mpad_sequence\u001b[49m\u001b[43m(\u001b[49m\n\u001b[1;32m    482\u001b[0m \u001b[43m    \u001b[49m\u001b[43msequences\u001b[49m\u001b[43m,\u001b[49m\u001b[43m \u001b[49m\u001b[43mbatch_first\u001b[49m\u001b[43m,\u001b[49m\u001b[43m \u001b[49m\u001b[43mpadding_value\u001b[49m\u001b[43m,\u001b[49m\u001b[43m \u001b[49m\u001b[43mpadding_side\u001b[49m\u001b[43m  \u001b[49m\u001b[38;5;66;43;03m# type: ignore[arg-type]\u001b[39;49;00m\n\u001b[1;32m    483\u001b[0m \u001b[43m\u001b[49m\u001b[43m)\u001b[49m\n",
      "\u001b[0;31mTypeError\u001b[0m: expected Tensor as element 0 in argument 0, but got list"
     ]
    }
   ],
   "source": [
    "with open(qa_filepath, 'r', encoding='utf-8') as f:\n",
    "    qa_data = json.load(f)\n",
    "\n",
    "# Generate dataset\n",
    "rag_generated_answers = []\n",
    "\n",
    "# Check if generated answers file already exists\n",
    "rag_answers_path = \"json_files/rag_generated_answers_\" + os.path.basename(qa_filepath).replace('.json', f'_{rag.name}.json')\n",
    "\n",
    "if os.path.exists(rag_answers_path):\n",
    "    rag_generated_answers = json.load(open(rag_answers_path, 'r', encoding='utf-8'))\n",
    "    print(f\"Using existing RAG generated answers file: {rag_answers_path}\")\n",
    "else:\n",
    "    for qa in qa_data:\n",
    "        query = qa[\"question\"]\n",
    "        reference = qa[\"answer\"]\n",
    "\n",
    "        relevant_docs = rag.get_most_relevant_docs(query, top_k=k)\n",
    "        response = rag.generate_answer(query, relevant_docs)\n",
    "        rag_generated_answers.append(\n",
    "            {\n",
    "                \"query\":query,\n",
    "                \"retrieved_contexts\":relevant_docs,\n",
    "                \"generated_answer\":response,\n",
    "                \"true_answer\":reference\n",
    "            }\n",
    "        )\n",
    "\n",
    "    # Save the dataset to a JSON file\n",
    "    output_dataset_file = \"json_files/rag_generated_answers_\" + os.path.basename(qa_filepath).replace('.json', f'_{rag.name}.json')\n",
    "    with open(output_dataset_file, 'w', encoding='utf-8') as f:\n",
    "        json.dump(rag_generated_answers, f, ensure_ascii=False, indent=4)\n",
    "    print(f\"Generated new RAG generated answers file: {output_dataset_file}\")"
   ]
  },
  {
   "cell_type": "markdown",
   "metadata": {},
   "source": [
    "### 5. Evaluate Retrieval"
   ]
  },
  {
   "cell_type": "code",
   "execution_count": null,
   "metadata": {},
   "outputs": [],
   "source": [
    "all_real_pages, all_retrieved_pages = [], []\n",
    "\n",
    "for rag_answer in rag_generated_answers:\n",
    "    real_page = next(\n",
    "        item[\"page_number\"] for item in qa_data if item[\"question\"] == rag_answer[\"query\"]\n",
    "    )\n",
    "    retrieved_pages = [doc[\"page_number\"] for doc in rag_answer[\"retrieved_contexts\"]]\n",
    "    all_real_pages.append([real_page] if isinstance(real_page, int) else real_page)\n",
    "    all_retrieved_pages.append(retrieved_pages)\n",
    "\n",
    "# Function to test a specific question by index\n",
    "def test_question(index):\n",
    "    if index < 1 or index > len(rag_generated_answers):\n",
    "        print(\"Invalid index. Please select a number between 1 and 5.\")\n",
    "        return\n",
    "\n",
    "    rag_answer = rag_generated_answers[index - 1]\n",
    "    real_page = all_real_pages[index - 1]\n",
    "    retrieved_pages = all_retrieved_pages[index - 1]\n",
    "\n",
    "    print(f\"Question: {rag_answer['query']}\")\n",
    "    print(f\"True Answer: {rag_answer['true_answer']}\")\n",
    "    print(f\"Generated Answer: {rag_answer['generated_answer']}\")\n",
    "    print(f\"Real Page(s): {real_page}\")\n",
    "    print(f\"Retrieved Pages: {retrieved_pages}\")\n",
    "    return real_page, retrieved_pages\n",
    "\n",
    "# Example usage: test the first question\n",
    "#real_page, retrieved_pages = test_question(5)\n",
    "\n",
    "# Or test everything\n",
    "real_page, retrieved_pages = all_real_pages, all_retrieved_pages\n",
    "\n",
    "mrr = compute_mrr_at_k(retrieved_pages, real_page, k)\n",
    "print(f\"MRR@{k}: {mrr:.2f}\")\n",
    "recall = compute_recall_at_k(retrieved_pages, real_page, k)\n",
    "print(f\"Recall@{k}: {recall:.2f}\")\n",
    "precision = compute_precision_at_k(retrieved_pages, real_page, k)\n",
    "print(f\"Precision@{k}: {precision:.2f}\")\n",
    "f1_score = compute_f1_score(retrieved_pages, real_page, k)\n",
    "print(f\"F1 Score@{k}: {f1_score:.2f}\")\n",
    "map = compute_map_at_k(retrieved_pages, real_page, k)\n",
    "print(f\"mAP Score: {map:.2f}\")"
   ]
  },
  {
   "cell_type": "markdown",
   "metadata": {},
   "source": [
    "### 6. Evaluate Generation"
   ]
  },
  {
   "cell_type": "code",
   "execution_count": null,
   "metadata": {},
   "outputs": [],
   "source": [
    "# Define the file path for storing the results\n",
    "results_folder = \"results\"\n",
    "os.makedirs(results_folder, exist_ok=True)\n",
    "results_file_path = os.path.join(results_folder, os.path.basename(qa_filepath).replace('.json', f'_{rag.name}.json'))\n",
    "\n",
    "# Check if the results file already exists\n",
    "if os.path.exists(results_file_path):\n",
    "    print(f\"Results already exist: {results_file_path}\")\n",
    "    print(\"Loading existing results...\")\n",
    "    with open(results_file_path, 'r', encoding='utf-8') as file:\n",
    "        print(file.read())\n",
    "    try:\n",
    "        with open(results_file_path, 'r', encoding='utf-8') as f:\n",
    "            faithfulness_and_relevance = json.load(f)\n",
    "    except json.JSONDecodeError:\n",
    "        print(f\"Error: The file {results_file_path} contains invalid JSON or is empty.\")\n",
    "        faithfulness_and_relevance = None\n",
    "else:\n",
    "    # Evaluate generation\n",
    "    faithfulness_and_relevance = str(evaluate_generation(rag_generated_answers, evaluator_llm))\n",
    "    \n",
    "    # Replace single quotes with double quotes\n",
    "    json_string = faithfulness_and_relevance.replace(\"'\", '\"')\n",
    "\n",
    "    with open(results_file_path, 'w', encoding='utf-8') as f:\n",
    "        f.write(json_string)  # Write string instead of using json.dump()\n",
    "    print(f\"Results saved to: {results_file_path}\")"
   ]
  }
 ],
 "metadata": {
  "kernelspec": {
   "display_name": "base",
   "language": "python",
   "name": "python3"
  },
  "language_info": {
   "codemirror_mode": {
    "name": "ipython",
    "version": 3
   },
   "file_extension": ".py",
   "mimetype": "text/x-python",
   "name": "python",
   "nbconvert_exporter": "python",
   "pygments_lexer": "ipython3",
   "version": "3.10.16"
  }
 },
 "nbformat": 4,
 "nbformat_minor": 2
}
