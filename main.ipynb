{
   "cells": [
      {
         "cell_type": "markdown",
         "metadata": {},
         "source": [
            "### 1. Import"
         ]
      },
      {
         "cell_type": "code",
         "execution_count": 1,
         "metadata": {},
         "outputs": [],
         "source": [
            "import os\n",
            "import json\n",
            "\n",
            "from langchain_openai import ChatOpenAI\n",
            "from ragas.llms import LangchainLLMWrapper\n",
            "\n",
            "from document_processor import TextProcessor, ImageProcessor, PageImageProcessor, TextAndInlineImageProcessor\n",
            "from multimodal_rag import MultimodalRAG\n",
            "from embedder import SigLIPEmbedder, VisRAGEmbedder, OpenAIEmbedder, ColPaliEmbedder #, SFREmbedder\n",
            "from pdf_to_qa import generate_qa_for_pdf\n",
            "from evaluation import evaluate_generation, compute_mrr_at_k, compute_recall_at_k, compute_precision_at_k, compute_f1_score\n",
            "from datasets import load_dataset\n",
            "from chartQAloader import generate_chartQA_pdf_and_json"
         ]
      },
      {
         "cell_type": "markdown",
         "metadata": {},
         "source": [
            "#### 1.2 Load chartQA\n",
            "Load from huggingface"
         ]
      },
      {
         "cell_type": "code",
         "execution_count": 2,
         "metadata": {},
         "outputs": [],
         "source": [
            "dataset = load_dataset('lmms-lab/ChartQA', split='test')\n",
            "subset_dataset = dataset.select(range(10))"
         ]
      },
      {
         "cell_type": "markdown",
         "metadata": {},
         "source": [
            "Create PDF for knowledge base and JSON mapping "
         ]
      },
      {
         "cell_type": "code",
         "execution_count": 3,
         "metadata": {},
         "outputs": [
            {
               "name": "stderr",
               "output_type": "stream",
               "text": [
                  "Processing Charts: 100%|██████████| 10/10 [00:01<00:00,  7.87chart/s]"
               ]
            },
            {
               "name": "stdout",
               "output_type": "stream",
               "text": [
                  "PDF saved as knowledge/subset_ChartQA_Evaluation_Set.pdf\n",
                  "JSON file saved as json_files/QA_subset_ChartQA_Evaluation_Set.json\n"
               ]
            },
            {
               "name": "stderr",
               "output_type": "stream",
               "text": [
                  "\n"
               ]
            }
         ],
         "source": [
            "# generate_chartQA_pdf_and_json(dataset, pdf_output_path='knowledge/ChartQA_Evaluation_Set.pdf', json_output_path='json_files/QA_ChartQA_Evaluation_Set.json')\n",
            "generate_chartQA_pdf_and_json(subset_dataset, pdf_output_path='knowledge/subset_ChartQA_Evaluation_Set.pdf', json_output_path='json_files/QA_subset_ChartQA_Evaluation_Set.json')\n"
         ]
      },
      {
         "cell_type": "markdown",
         "metadata": {},
         "source": [
            "### 2. Configuration"
         ]
      },
      {
         "cell_type": "code",
         "execution_count": 4,
         "metadata": {},
         "outputs": [],
         "source": [
            "# PDF_FILE = \"knowledge/subset_riksbanken.pdf\"\n",
            "# PDF_FILE = \"knowledge/ChartQA_Evaluation_Set.pdf\"\n",
            "PDF_FILE = \"knowledge/subset_ChartQA_Evaluation_Set.pdf\"\n",
            "# PDF_FILE = \"knowledge/total_recall.pdf\"\n",
            "\n",
            "#text_processor = TextProcessor(SFREmbedder())\n",
            "#image_processor = ImageProcessor(SigLIPEmbedder())\n",
            "# page_image_processor = PageImageProcessor(VisRAGEmbedder())\n",
            "#text_inline_processor = TextAndInlineImageProcessor(SFREmbedder())\n",
            "text_inline_processor = TextAndInlineImageProcessor(OpenAIEmbedder(),no = 3) #Select no 3 for chartQA emb. 1 or 2 for other emb.\n",
            "\n",
            "rag = MultimodalRAG([text_inline_processor], PDF_FILE)\n",
            "evaluator_llm = LangchainLLMWrapper(ChatOpenAI(model=\"gpt-4o-mini\")) # For Ragas evaluation"
         ]
      },
      {
         "cell_type": "markdown",
         "metadata": {},
         "source": [
            "### 3. Generate Dataset - for CoinQA"
         ]
      },
      {
         "cell_type": "code",
         "execution_count": 5,
         "metadata": {},
         "outputs": [
            {
               "name": "stdout",
               "output_type": "stream",
               "text": [
                  "Using existing QA file: json_files/QA_subset_ChartQA_Evaluation_Set.json\n"
               ]
            }
         ],
         "source": [
            "# Check if QA file already exists\n",
            "qa_filepath = \"json_files/QA_\" + os.path.basename(PDF_FILE).replace('.pdf', '.json')\n",
            "\n",
            "if os.path.exists(qa_filepath):\n",
            "    qa_path = qa_filepath\n",
            "    print(f\"Using existing QA file: {qa_path}\")\n",
            "else:\n",
            "    qa_path = generate_qa_for_pdf(PDF_FILE)\n",
            "    print(f\"Generated new QA file: {qa_path}\")\n",
            "\n",
            "with open(qa_path, 'r', encoding='utf-8') as f:\n",
            "    qa_data = json.load(f)\n",
            "    "
         ]
      },
      {
         "cell_type": "markdown",
         "metadata": {},
         "source": [
            "### 4. Answering the QA"
         ]
      },
      {
         "cell_type": "code",
         "execution_count": 6,
         "metadata": {},
         "outputs": [
            {
               "name": "stdout",
               "output_type": "stream",
               "text": [
                  "Generated new RAG generated answers file: json_files/rag_generated_answers_QA_subset_ChartQA_Evaluation_Set.json\n"
               ]
            }
         ],
         "source": [
            "with open(qa_path, 'r', encoding='utf-8') as f:\n",
            "    qa_data = json.load(f)\n",
            "\n",
            "# Generate dataset\n",
            "rag_generated_answers = []\n",
            "\n",
            "# Check if generated answers file already exists\n",
            "rag_answers_path = \"json_files/rag_generated_answers_\" + os.path.basename(qa_path)\n",
            "\n",
            "if os.path.exists(rag_answers_path):\n",
            "    rag_generated_answers = json.load(open(rag_answers_path, 'r', encoding='utf-8'))\n",
            "    print(f\"Using existing RAG generated answers file: {rag_answers_path}\")\n",
            "else:\n",
            "    for qa in qa_data:\n",
            "        query = qa[\"question\"]\n",
            "        reference = qa[\"answer\"]\n",
            "\n",
            "        relevant_docs = rag.get_most_relevant_docs(query, top_k=5)\n",
            "        response = rag.generate_answer(query, relevant_docs)\n",
            "        rag_generated_answers.append(\n",
            "            {\n",
            "                \"query\":query,\n",
            "                \"retrieved_contexts\":relevant_docs,\n",
            "                \"generated_answer\":response,\n",
            "                \"true_answer\":reference\n",
            "            }\n",
            "        )\n",
            "\n",
            "    # Save the dataset to a JSON file\n",
            "    output_dataset_file = \"json_files/rag_generated_answers_\" + os.path.basename(qa_path)\n",
            "\n",
            "    with open(output_dataset_file, 'w', encoding='utf-8') as f:\n",
            "        json.dump(rag_generated_answers, f, ensure_ascii=False, indent=4)\n",
            "    print(f\"Generated new RAG generated answers file: {output_dataset_file}\")"
         ]
      },
      {
         "cell_type": "markdown",
         "metadata": {},
         "source": [
            "### 5. Evaluate Retrieval"
         ]
      },
      {
         "cell_type": "code",
         "execution_count": null,
         "metadata": {},
         "outputs": [
            {
               "name": "stdout",
               "output_type": "stream",
               "text": [
                  "Question: What's the value of the lowest bar?\n",
                  "True Answer: 23\n",
                  "Generated Answer: The value of the lowest bar in the first chart, which represents the long-term price index in food commodities from 1850 to 2015, is **18.81**, corresponding to cocoa.\n",
                  "Real Page(s): [3]\n",
                  "Retrieved Pages: [1, 2, 5, 4, 3]\n",
                  "MRR@3: 0.00\n",
                  "MRR@5: 0.20\n",
                  "Recall@3: 0.00\n",
                  "Recall@5: 1.00\n",
                  "Precision@3: 0.00\n",
                  "Precision@5: 0.20\n",
                  "F1 Score@3: 0.00\n",
                  "F1 Score@5: 0.33\n"
               ]
            }
         ],
         "source": [
            "all_real_pages, all_retrieved_pages = [], []\n",
            "\n",
            "for rag_answer in rag_generated_answers:\n",
            "    real_page = next(\n",
            "        item[\"page_number\"] for item in qa_data if item[\"question\"] == rag_answer[\"query\"]\n",
            "    )\n",
            "    retrieved_pages = [doc[\"page_number\"] for doc in rag_answer[\"retrieved_contexts\"]]\n",
            "    all_real_pages.append([real_page] if isinstance(real_page, int) else real_page)\n",
            "    all_retrieved_pages.append(retrieved_pages)\n",
            "\n",
            "# Function to test a specific question by index\n",
            "def test_question(index):\n",
            "    if index < 1 or index > len(rag_generated_answers):\n",
            "        print(\"Invalid index. Please select a number between 1 and 5.\")\n",
            "        return\n",
            "\n",
            "    rag_answer = rag_generated_answers[index - 1]\n",
            "    real_page = all_real_pages[index - 1]\n",
            "    retrieved_pages = all_retrieved_pages[index - 1]\n",
            "\n",
            "    print(f\"Question: {rag_answer['query']}\")\n",
            "    print(f\"True Answer: {rag_answer['true_answer']}\")\n",
            "    print(f\"Generated Answer: {rag_answer['generated_answer']}\")\n",
            "    print(f\"Real Page(s): {real_page}\")\n",
            "    print(f\"Retrieved Pages: {retrieved_pages}\")\n",
            "    return real_page, retrieved_pages\n",
            "\n",
            "# Example usage: test the first question\n",
            "# real_page, retrieved_pages = test_question(5)\n",
            "\n",
            "# Or test everything\n",
            "real_page, retrieved_pages = all_real_pages, all_retrieved_pages\n",
            "\n",
            "for k in [3, 5]:\n",
            "    mrr = compute_mrr_at_k(retrieved_pages, real_page, k)\n",
            "    print(f\"MRR@{k}: {mrr:.2f}\")\n",
            "\n",
            "for k in [3, 5]:\n",
            "    recall = compute_recall_at_k(retrieved_pages, real_page, k)\n",
            "    print(f\"Recall@{k}: {recall:.2f}\")\n",
            "\n",
            "for k in [3, 5]:\n",
            "    precision = compute_precision_at_k(retrieved_pages, real_page, k)\n",
            "    print(f\"Precision@{k}: {precision:.2f}\")\n",
            "    \n",
            "for k in [3, 5]:\n",
            "    f1_score = compute_f1_score(retrieved_pages, real_page, k)\n",
            "    print(f\"F1 Score@{k}: {f1_score:.2f}\")"
         ]
      },
      {
         "cell_type": "markdown",
         "metadata": {},
         "source": [
            "### 6. Evaluate Generation"
         ]
      },
      {
         "cell_type": "code",
         "execution_count": null,
         "metadata": {},
         "outputs": [],
         "source": [
            "faithfulness_and_relevance = evaluate_generation(rag_generated_answers, evaluator_llm)\n",
            "print(faithfulness_and_relevance)"
         ]
      }
   ],
   "metadata": {
      "kernelspec": {
         "display_name": "venv",
         "language": "python",
         "name": "python3"
      },
      "language_info": {
         "codemirror_mode": {
            "name": "ipython",
            "version": 3
         },
         "file_extension": ".py",
         "mimetype": "text/x-python",
         "name": "python",
         "nbconvert_exporter": "python",
         "pygments_lexer": "ipython3",
         "version": "3.10.16"
      }
   },
   "nbformat": 4,
   "nbformat_minor": 2
}
