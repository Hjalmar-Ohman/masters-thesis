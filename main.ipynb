{
 "cells": [
  {
   "cell_type": "markdown",
   "metadata": {},
   "source": [
    "### 1. Import"
   ]
  },
  {
   "cell_type": "code",
   "execution_count": 1,
   "metadata": {},
   "outputs": [],
   "source": [
    "import os\n",
    "import json\n",
    "\n",
    "from langchain_openai import ChatOpenAI\n",
    "from ragas.llms import LangchainLLMWrapper\n",
    "\n",
    "from document_processor import TextProcessor, ImageProcessor, PageImageProcessor, TextAndInlineImageProcessor\n",
    "from multimodal_rag import MultimodalRAG\n",
    "from embedder import SFREmbedder, SigLIPEmbedder, VisRAGEmbedder, OpenAIEmbedder, ColPaliEmbedder\n",
    "from pdf_to_qa import generate_qa_for_pdf\n",
    "from evaluation import evaluate_generation, compute_mrr_at_k"
   ]
  },
  {
   "cell_type": "markdown",
   "metadata": {},
   "source": [
    "### 2. Configuration"
   ]
  },
  {
   "cell_type": "code",
   "execution_count": null,
   "metadata": {},
   "outputs": [
    {
     "data": {
      "application/vnd.jupyter.widget-view+json": {
       "model_id": "c78002d3dc8847dcbbd48a80a415d5af",
       "version_major": 2,
       "version_minor": 0
      },
      "text/plain": [
       "adapter_config.json:   0%|          | 0.00/751 [00:00<?, ?B/s]"
      ]
     },
     "metadata": {},
     "output_type": "display_data"
    },
    {
     "data": {
      "application/vnd.jupyter.widget-view+json": {
       "model_id": "49c7650e4bbe44dcbb0366504c729cbd",
       "version_major": 2,
       "version_minor": 0
      },
      "text/plain": [
       "config.json:   0%|          | 0.00/1.01k [00:00<?, ?B/s]"
      ]
     },
     "metadata": {},
     "output_type": "display_data"
    },
    {
     "data": {
      "application/vnd.jupyter.widget-view+json": {
       "model_id": "a1652f914ec749ad9beff6ef5c2ce327",
       "version_major": 2,
       "version_minor": 0
      },
      "text/plain": [
       "model.safetensors.index.json:   0%|          | 0.00/66.3k [00:00<?, ?B/s]"
      ]
     },
     "metadata": {},
     "output_type": "display_data"
    },
    {
     "data": {
      "application/vnd.jupyter.widget-view+json": {
       "model_id": "8845463f78d649d0a8dc58d5125feddf",
       "version_major": 2,
       "version_minor": 0
      },
      "text/plain": [
       "Downloading shards:   0%|          | 0/2 [00:00<?, ?it/s]"
      ]
     },
     "metadata": {},
     "output_type": "display_data"
    },
    {
     "data": {
      "application/vnd.jupyter.widget-view+json": {
       "model_id": "b29a8966974e48bb88828a6fd0380125",
       "version_major": 2,
       "version_minor": 0
      },
      "text/plain": [
       "model-00001-of-00002.safetensors:   0%|          | 0.00/4.99G [00:00<?, ?B/s]"
      ]
     },
     "metadata": {},
     "output_type": "display_data"
    },
    {
     "data": {
      "application/vnd.jupyter.widget-view+json": {
       "model_id": "dd0ac6c0c66c47219ec99571e85033db",
       "version_major": 2,
       "version_minor": 0
      },
      "text/plain": [
       "model-00002-of-00002.safetensors:   0%|          | 0.00/862M [00:00<?, ?B/s]"
      ]
     },
     "metadata": {},
     "output_type": "display_data"
    },
    {
     "data": {
      "application/vnd.jupyter.widget-view+json": {
       "model_id": "e9ca7611da9a48779d50ef151316082f",
       "version_major": 2,
       "version_minor": 0
      },
      "text/plain": [
       "Loading checkpoint shards:   0%|          | 0/2 [00:00<?, ?it/s]"
      ]
     },
     "metadata": {},
     "output_type": "display_data"
    },
    {
     "data": {
      "application/vnd.jupyter.widget-view+json": {
       "model_id": "9e0cb6e7a9034bd7a92fa6f86f334950",
       "version_major": 2,
       "version_minor": 0
      },
      "text/plain": [
       "adapter_model.safetensors:   0%|          | 0.00/78.6M [00:00<?, ?B/s]"
      ]
     },
     "metadata": {},
     "output_type": "display_data"
    },
    {
     "data": {
      "application/vnd.jupyter.widget-view+json": {
       "model_id": "2ef694d6ff3241edb8a71127c9f996e3",
       "version_major": 2,
       "version_minor": 0
      },
      "text/plain": [
       "preprocessor_config.json:   0%|          | 0.00/423 [00:00<?, ?B/s]"
      ]
     },
     "metadata": {},
     "output_type": "display_data"
    },
    {
     "data": {
      "application/vnd.jupyter.widget-view+json": {
       "model_id": "24979dbb0f4f4f95895a207dda93fc6c",
       "version_major": 2,
       "version_minor": 0
      },
      "text/plain": [
       "tokenizer_config.json:   0%|          | 0.00/243k [00:00<?, ?B/s]"
      ]
     },
     "metadata": {},
     "output_type": "display_data"
    },
    {
     "data": {
      "application/vnd.jupyter.widget-view+json": {
       "model_id": "1cf3e02ff1a84c3b966658dfffab185a",
       "version_major": 2,
       "version_minor": 0
      },
      "text/plain": [
       "tokenizer.json:   0%|          | 0.00/34.6M [00:00<?, ?B/s]"
      ]
     },
     "metadata": {},
     "output_type": "display_data"
    },
    {
     "data": {
      "application/vnd.jupyter.widget-view+json": {
       "model_id": "7f3ae34335e0404d8d0bf274e25ca8f2",
       "version_major": 2,
       "version_minor": 0
      },
      "text/plain": [
       "special_tokens_map.json:   0%|          | 0.00/733 [00:00<?, ?B/s]"
      ]
     },
     "metadata": {},
     "output_type": "display_data"
    },
    {
     "ename": "",
     "evalue": "",
     "output_type": "error",
     "traceback": [
      "\u001b[1;31mThe Kernel crashed while executing code in the current cell or a previous cell. \n",
      "\u001b[1;31mPlease review the code in the cell(s) to identify a possible cause of the failure. \n",
      "\u001b[1;31mClick <a href='https://aka.ms/vscodeJupyterKernelCrash'>here</a> for more info. \n",
      "\u001b[1;31mView Jupyter <a href='command:jupyter.viewOutput'>log</a> for further details."
     ]
    }
   ],
   "source": [
    "PDF_FILE = \"knowledge/subset_riksbanken.pdf\"\n",
    "\n",
    "#text_processor = TextProcessor(SFREmbedder())\n",
    "#image_processor = ImageProcessor(SigLIPEmbedder())\n",
    "page_image_processor = PageImageProcessor(ColPaliEmbedder())\n",
    "#text_inline_processor = TextAndInlineImageProcessor(OpenAIEmbedder())\n",
    "\n",
    "rag = MultimodalRAG([page_image_processor], PDF_FILE)\n",
    "evaluator_llm = LangchainLLMWrapper(ChatOpenAI(model=\"gpt-4o-mini\")) # For Ragas evaluation"
   ]
  },
  {
   "cell_type": "markdown",
   "metadata": {},
   "source": [
    "### 3. Generate Dataset"
   ]
  },
  {
   "cell_type": "code",
   "execution_count": null,
   "metadata": {},
   "outputs": [],
   "source": [
    "# Check if QA file already exists\n",
    "qa_filepath = \"QA_\" + os.path.basename(PDF_FILE).replace('.pdf', '.json')\n",
    "\n",
    "if os.path.exists(qa_filepath):\n",
    "    qa_path = qa_filepath\n",
    "    print(f\"Using existing QA file: {qa_path}\")\n",
    "else:\n",
    "    qa_path = generate_qa_for_pdf(PDF_FILE)\n",
    "    print(f\"Generated new QA file: {qa_path}\")\n",
    "\n",
    "with open(qa_path, 'r', encoding='utf-8') as f:\n",
    "    qa_data = json.load(f)\n",
    "    "
   ]
  },
  {
   "cell_type": "markdown",
   "metadata": {},
   "source": [
    "### 4. Answering the QA"
   ]
  },
  {
   "cell_type": "code",
   "execution_count": null,
   "metadata": {},
   "outputs": [],
   "source": [
    "with open(qa_path, 'r', encoding='utf-8') as f:\n",
    "    qa_data = json.load(f)\n",
    "\n",
    "# Generate dataset\n",
    "rag_generated_answers = []\n",
    "\n",
    "# Check if generated answers file already exists\n",
    "rag_answers_path = \"rag_generated_answers_\" + os.path.basename(qa_path)\n",
    "\n",
    "if os.path.exists(rag_answers_path):\n",
    "    rag_generated_answers = json.load(open(rag_answers_path, 'r', encoding='utf-8'))\n",
    "    print(f\"Using existing RAG generated answers file: {rag_answers_path}\")\n",
    "else:\n",
    "    for qa in qa_data:\n",
    "        query = qa[\"question\"]\n",
    "        reference = qa[\"answer\"]\n",
    "\n",
    "        relevant_docs = rag.get_most_relevant_docs(query, top_k=10)\n",
    "        response = rag.generate_answer(query, relevant_docs)\n",
    "        rag_generated_answers.append(\n",
    "            {\n",
    "                \"query\":query,\n",
    "                \"retrieved_contexts\":relevant_docs,\n",
    "                \"generated_answer\":response,\n",
    "                \"true_answer\":reference\n",
    "            }\n",
    "        )\n",
    "\n",
    "    # Save the dataset to a JSON file\n",
    "    output_dataset_file = \"rag_generated_answers_\" + os.path.basename(qa_path)\n",
    "\n",
    "    with open(output_dataset_file, 'w', encoding='utf-8') as f:\n",
    "        json.dump(rag_generated_answers, f, ensure_ascii=False, indent=4)\n",
    "    print(f\"Generated new RAG generated answers file: {output_dataset_file}\")"
   ]
  },
  {
   "cell_type": "markdown",
   "metadata": {},
   "source": [
    "### 5. Evaluate Retrieval"
   ]
  },
  {
   "cell_type": "code",
   "execution_count": null,
   "metadata": {},
   "outputs": [],
   "source": [
    "all_real_pages, all_retrieved_pages = [], []\n",
    "\n",
    "for rag_answer in rag_generated_answers:\n",
    "    real_page = next(\n",
    "        item[\"page_number\"] for item in qa_data if item[\"question\"] == rag_answer[\"query\"]\n",
    "    )\n",
    "    retrieved_pages = [doc[\"page_number\"] for doc in rag_answer[\"retrieved_contexts\"]]\n",
    "    \n",
    "    all_real_pages.append(real_page)\n",
    "    all_retrieved_pages.append(retrieved_pages)\n",
    "\n",
    "mrr = compute_mrr_at_k(all_retrieved_pages, all_real_pages, k=10)\n",
    "print(f\"MRR@{k}: {mrr}\")"
   ]
  },
  {
   "cell_type": "markdown",
   "metadata": {},
   "source": [
    "### 6. Evaluate Generation"
   ]
  },
  {
   "cell_type": "code",
   "execution_count": null,
   "metadata": {},
   "outputs": [],
   "source": [
    "faithfulness_and_relevance = evaluate_generation(rag_generated_answers, evaluator_llm)\n",
    "print(faithfulness_and_relevance)"
   ]
  }
 ],
 "metadata": {
  "kernelspec": {
   "display_name": "venv",
   "language": "python",
   "name": "python3"
  },
  "language_info": {
   "codemirror_mode": {
    "name": "ipython",
    "version": 3
   },
   "file_extension": ".py",
   "mimetype": "text/x-python",
   "name": "python",
   "nbconvert_exporter": "python",
   "pygments_lexer": "ipython3",
   "version": "3.10.16"
  }
 },
 "nbformat": 4,
 "nbformat_minor": 2
}
