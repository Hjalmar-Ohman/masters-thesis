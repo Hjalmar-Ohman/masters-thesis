{
 "cells": [
  {
   "cell_type": "markdown",
   "metadata": {},
   "source": [
    "### 1. Import"
   ]
  },
  {
   "cell_type": "code",
   "execution_count": 1,
   "metadata": {},
   "outputs": [],
   "source": [
    "import os\n",
    "import json\n",
    "\n",
    "from langchain_openai import ChatOpenAI\n",
    "from ragas.llms import LangchainLLMWrapper\n",
    "\n",
    "from multimodal_rag import MultimodalRAG\n",
    "from multimodal_embedder import create_embedder\n",
    "from pdf_to_qa import generate_qa_for_pdf\n",
    "from evaluation import evaluate_generation, compute_mrr_at_k\n"
   ]
  },
  {
   "cell_type": "markdown",
   "metadata": {},
   "source": [
    "### 2. Configuration"
   ]
  },
  {
   "cell_type": "code",
   "execution_count": 2,
   "metadata": {},
   "outputs": [
    {
     "name": "stdout",
     "output_type": "stream",
     "text": [
      "FAISS Input Embeddings Shape: (11, 768)\n"
     ]
    }
   ],
   "source": [
    "PDF_FILE = \"knowledge/subset_riksbanken.pdf\"\n",
    "EMBEDDER = \"siglip\"\n",
    "\n",
    "rag = MultimodalRAG(pdf_file=PDF_FILE, embedder=create_embedder(EMBEDDER))\n",
    "evaluator_llm = LangchainLLMWrapper(ChatOpenAI(model=\"gpt-4o-mini\")) # For Ragas evaluation"
   ]
  },
  {
   "cell_type": "markdown",
   "metadata": {},
   "source": [
    "### 3. Generate Dataset"
   ]
  },
  {
   "cell_type": "code",
   "execution_count": 3,
   "metadata": {},
   "outputs": [
    {
     "name": "stdout",
     "output_type": "stream",
     "text": [
      "Using existing QA file: QA_subset_riksbanken.json\n"
     ]
    }
   ],
   "source": [
    "# Check if QA file already exists\n",
    "qa_filepath = \"QA_\" + os.path.basename(PDF_FILE).replace('.pdf', '.json')\n",
    "\n",
    "if os.path.exists(qa_filepath):\n",
    "    qa_path = qa_filepath\n",
    "    print(f\"Using existing QA file: {qa_path}\")\n",
    "else:\n",
    "    qa_path = generate_qa_for_pdf(PDF_FILE)\n",
    "    print(f\"Generated new QA file: {qa_path}\")\n",
    "\n",
    "with open(qa_path, 'r', encoding='utf-8') as f:\n",
    "    qa_data = json.load(f)\n",
    "    "
   ]
  },
  {
   "cell_type": "markdown",
   "metadata": {},
   "source": [
    "### 4. Answering the QA"
   ]
  },
  {
   "cell_type": "code",
   "execution_count": 4,
   "metadata": {},
   "outputs": [
    {
     "name": "stdout",
     "output_type": "stream",
     "text": [
      "Using existing RAG generated answers file: rag_generated_answers_QA_subset_riksbanken.json\n"
     ]
    }
   ],
   "source": [
    "with open(qa_path, 'r', encoding='utf-8') as f:\n",
    "    qa_data = json.load(f)\n",
    "    \n",
    "# Generate dataset\n",
    "rag_generated_answers = []\n",
    "\n",
    "# Check if generated answers file already exists\n",
    "rag_answers_path = \"rag_generated_answers_\" + os.path.basename(qa_path)\n",
    "\n",
    "if os.path.exists(rag_answers_path):\n",
    "    rag_generated_answers = json.load(open(rag_answers_path, 'r', encoding='utf-8'))\n",
    "    print(f\"Using existing RAG generated answers file: {rag_answers_path}\")\n",
    "else:\n",
    "    for qa in qa_data:\n",
    "        query = qa[\"question\"]\n",
    "        reference = qa[\"answer\"]\n",
    "\n",
    "        relevant_docs = rag.get_most_relevant_docs(query)\n",
    "        response = rag.generate_answer(query, relevant_docs)\n",
    "        rag_generated_answers.append(\n",
    "            {\n",
    "                \"query\":query,\n",
    "                \"retrieved_contexts\":relevant_docs,\n",
    "                \"generated_answer\":response,\n",
    "                \"true_answer\":reference\n",
    "            }\n",
    "        )\n",
    "\n",
    "    # Save the dataset to a JSON file\n",
    "    output_dataset_file = \"rag_generated_answers_\" + os.path.basename(qa_path)\n",
    "\n",
    "    with open(output_dataset_file, 'w', encoding='utf-8') as f:\n",
    "        json.dump(rag_generated_answers, f, ensure_ascii=False, indent=4)\n",
    "    print(f\"Generated new RAG generated answers file: {output_dataset_file}\")"
   ]
  },
  {
   "cell_type": "markdown",
   "metadata": {},
   "source": [
    "### Print Generated Answers"
   ]
  },
  {
   "cell_type": "code",
   "execution_count": 5,
   "metadata": {},
   "outputs": [
    {
     "name": "stdout",
     "output_type": "stream",
     "text": [
      "Entry 1:\n",
      "x  Query: What was the total amount of interest-bearing debt for Swedish non-financial companies at the end of 2023, and how is this amount divided between loans from banks and other lenders and issued debt securities?\n",
      "x  Retrieved Contexts: [{'type': 'text', 'content': 'The real economy’s need for financial services \\n23 unrated companies has also increased significantly. One contributing factor may be the low interest rates that followed the financial crisis, which lowered absolute re-turns and increased investor demand for riskier assets, as well as making the price of securities financing more favourable compared with the price of bank loans.  It is mainly foreign actors who invest in the debt securities issued by companies, fol-lowed by Swedish funds and Swedish insurance and pension companies, see Figure 12. The Riksbank owned 0.4 percent of the securities at the end of 2023, having pur-chased corporate bonds and commercial papers between September 2020 and De-cember 2022 to mitigate the effects of the coronavirus pandemic on the Swedish economy.24,25 Figure 12. Holders of issued corporate debt securities  and listed equities SEK billion and percent \\n  \\n  Note. Refers to the position as at 31 December 2023 for Swedish non-financial companies. “Banks” refer to monetary financial institutions (MFIs) operating in Sweden, which include banks and credit market companies. Source: Statistics Sweden and the Riksbank.  24 Read more about the Riksbank’s purchases of corporate bonds at Corporate bonds | Sveriges Riksbank, and in FACT BOX - The Riksbank’s role in the financial system. 25 Read more about the development of corporate bond holders in Investor behaviour in Swedish bond markets (riksbank.se) 0%0.4%2%2%4%4%10%16%63%\\n 0 200 400 600 8001 000HouseholdsThe RiksbankPublic sectorOther Sw. HoldersNon-financial companiesBanksInsurance and pension…FundsOther countriesIssued securities\\n0%4%7%8%9%14%15%43%\\n 01 0002 0003 0004 000BanksPublic sectorInsurance and pension…Other Sw. HoldersHouseholdsNon-financial companiesFundsOther countriesListed equities', 'page_number': 4}, {'type': 'text', 'content': 'The real economy’s need for financial services \\n24 Companies also use equity capital to finance themselves. At the end of 2023, the mar-ket value of companies’ outstanding equities amounted to just over SEK 21,000 bil-lion, equivalent to around 340 percent of GDP. Of this, just over a third were listed eq-uities and the rest unlisted.26 Foreign investors account for the largest share of invest-ment in listed equities. This is followed by Swedish funds, non-financial companies and households, see Figure 12. There are also venture capital companies that invest in companies’ equity capital, but this is mainly in unlisted companies. Read more in the section Private equity firms. Companies are linked to different actors in more ways than through their savings and financing. They also enter into various types of derivative contract with banks to hedge against changes in, for example, commodity prices, exchange rates or interest rates, see Figure 4 above for an overview of the links. They are also linked to different actors by making recurrent payments and in the context of different payment  services, as described in more detail in the section Financial infrastructures enable payments.  1.3 Public sector Central government and municipalities fund themselves by issuing debt securities In addition to raising money through various taxes, the public sector uses the capital market to obtain funding. It does this by issuing debt securities. These include differ-ent types of bonds such as government and municipal bonds, which have longer ma-turities, and treasury bills and certificates, which have shorter maturities. In Sweden, the Swedish National Debt Office manages government borrowing and issues govern-ment bonds and treasury bills. At the end of 2023, the outstanding stock of issued public sector securities amounted to almost SEK 1,200 billion, see Figure 13. The ma-jority of this consisted of government bonds, but some, around SEK 250 billion, also consisted of municipal bonds issued by municipalities and regions. For municipalities and regions, the credit market company Kommuninvest, an economic association owned and governed by its members, which are municipalities and regions, also bor-rows approximately SEK 250 billion.27 Some funding, around SEK 100 billion, also comes from borrowing from banks and intergovernmental organisations.28  At the end of 2023, Sweden’s central government debt was just under 20 percent of GDP, see Figure 14. In the 2000s, central government debt fell sharply from the level  26 As the value of an equity depends on the company’s performance and the market’s expectations of fu-ture performance, this figure differs from the value of the equity capital the company raised at the begin-ning, so a direct comparison of the size of the interest-bearing debt is not entirely accurate. 27 Source: www.kommuninvest.se/download/18.e6f1d6318fa4a7c94d1fd4e/1716973996911/Kommunin-vest Annual Report 2023 (xhtml).xhtml  28 Source: https://kommuninvest.se/wp-content/uploads/2023/10/Den-kommunala-laneskulden-2023.pdf  (In Swedish only)', 'page_number': 5}, {'type': 'text', 'content': 'The real economy’s need for financial services \\n20 Figure 8. Financial assets of non-financial companies SEK billion \\n  Note. Refers to Swedish non-financial companies, including tenant-owner housing associations. “Loans” include net group loans. Excluding equity capital. Source: Statistics Sweden.  Companies need financing to make investments and run their operations. The type of financing on which they have to pay interest is called interest-bearing debt and amounted to just over SEK 5,500 billion at the end of 2023. This is equivalent to just under Sweden’s annual GDP. Of this, SEK 4,000 billion were loans from banks and other lenders and SEK 1,500 billion were issued debt securities, see Figure 9.  01 0002 0003 0004 0005 000\\n201820192020202120222023DepositsTrade credits and advancesFinancial derivativesOtherLoans', 'page_number': 1}, {'type': 'text', 'content': 'The real economy’s need for financial services \\n21 Figure 9. Non-financial companies’ debts SEK billion \\n  Note. Refers to Swedish non-financial companies, including tenant-owner housing associations. “Loans from banks and others” includes net group loans. Excluding equity capital. Source: Statistics Sweden. Figure 10. Non-financial companies’ borrowing, by size SEK billion \\n  Note. Amount outstanding as at 31 December 2023. Loans and securities issues in all curren-cies to Swedish non-financial companies, nominal value. The size classification is based on the European Commission Recommendation (2003/361/EC), where the combination of number of employees, turnover and assets affects the size classification.  Source: Statistics Sweden and the Riksbank. The ways in which companies finance their activities differ depending on their size and the sector in which they operate. Large companies borrow from banks and other  01 0002 0003 0004 0005 0006 0007 0008 0009 000\\n201820192020202120222023Loans from banks, etc.DebtsecuritiesTrade credits and advancesOther\\n 0 5001 0001 5002 0002 500\\nLarge enterprises,not publiclyownedLarge enterprises,publicly ownedSME: Small andmedium-sizedenterprisesSME: Micro-enterprisesTenant-ownerhousingassociationsLoansfrom banks and other MFIsDebt securities', 'page_number': 2}, {'type': 'text', 'content': 'The real economy’s need for financial services \\n22 lenders about as much as they obtain financing by issuing debt securities, while me-dium-sized and small companies mainly borrow, see Figure 10. The highest share of securities borrowing is for companies active in energy and water supply, certain in-dustrial and property operations and certain service industries, see Figure 11. In terms of volume, property companies dominate securities borrowing. Companies in con-struction, trade, hotels and tourism mainly take out loans to finance their activities.  Figure 11. Non-financial companies’ borrowing, by sector SEK billion \\n  Note. Amount outstanding as at 31 December 2023. Loans and securities issues in all curren-cies to Swedish non-financial companies, nominal value.  Source: Statistics Sweden and the Riksbank. Companies’ loans mostly come from financial corporations, mainly banks, which ac-count for more than 70 percent of the loan volume, but other financial companies also contribute to some extent. In addition, loans come mainly from municipalities and regions and from foreign lenders.23 The debt securities issued by companies are mainly corporate bonds, but also com-mercial papers to some extent. Commercial papers have shorter maturities, up to one year, and bonds have longer maturities. Large, investment-grade Swedish companies account for most of the issue volumes on the corporate bond market. In recent years, however, more and more companies have chosen to issue bonds, including smaller, companies with a high yield credit rating As a consequence, the share of issuance by  23 Banks here refer to monetary financial institutions (MFIs) operating in Sweden, such as banks and credit market companies. Loans from municipalities and regions refer, for example, to loans to municipally or state-owned limited companies.   0 200 400 600 8001 0001 200\\nLoans from banksand other MFIsDebt securities', 'page_number': 3}]\n",
      "x  Generated Answer: At the end of 2023, the total amount of interest-bearing debt for Swedish non-financial companies was just over SEK 5,500 billion. This amount is divided between loans from banks and other lenders, and issued debt securities. However, the specific breakdown of this total debt into the amounts attributed to loans and debt securities is not provided in the excerpts you shared. For detailed figures on the division between loans from banks and other lenders versus issued debt securities, you would typically need to refer to the specific financial reports or statistics published by relevant financial authorities or organizations, such as Statistics Sweden.\n",
      "x  True Answer: At the end of 2023, the total amount of interest-bearing debt for Swedish non-financial companies was just over SEK 5,500 billion. This included SEK 4,000 billion in loans from banks and other lenders and SEK 1,500 billion in issued debt securities.\n",
      "----------------------------------------\n",
      "Entry 2:\n",
      "x  Query: What are the main sources of borrowing for large non-financial enterprises in Sweden as of December 2023?\n",
      "x  Retrieved Contexts: [{'type': 'text', 'content': 'The real economy’s need for financial services \\n23 unrated companies has also increased significantly. One contributing factor may be the low interest rates that followed the financial crisis, which lowered absolute re-turns and increased investor demand for riskier assets, as well as making the price of securities financing more favourable compared with the price of bank loans.  It is mainly foreign actors who invest in the debt securities issued by companies, fol-lowed by Swedish funds and Swedish insurance and pension companies, see Figure 12. The Riksbank owned 0.4 percent of the securities at the end of 2023, having pur-chased corporate bonds and commercial papers between September 2020 and De-cember 2022 to mitigate the effects of the coronavirus pandemic on the Swedish economy.24,25 Figure 12. Holders of issued corporate debt securities  and listed equities SEK billion and percent \\n  \\n  Note. Refers to the position as at 31 December 2023 for Swedish non-financial companies. “Banks” refer to monetary financial institutions (MFIs) operating in Sweden, which include banks and credit market companies. Source: Statistics Sweden and the Riksbank.  24 Read more about the Riksbank’s purchases of corporate bonds at Corporate bonds | Sveriges Riksbank, and in FACT BOX - The Riksbank’s role in the financial system. 25 Read more about the development of corporate bond holders in Investor behaviour in Swedish bond markets (riksbank.se) 0%0.4%2%2%4%4%10%16%63%\\n 0 200 400 600 8001 000HouseholdsThe RiksbankPublic sectorOther Sw. HoldersNon-financial companiesBanksInsurance and pension…FundsOther countriesIssued securities\\n0%4%7%8%9%14%15%43%\\n 01 0002 0003 0004 000BanksPublic sectorInsurance and pension…Other Sw. HoldersHouseholdsNon-financial companiesFundsOther countriesListed equities', 'page_number': 4}, {'type': 'text', 'content': 'The real economy’s need for financial services \\n24 Companies also use equity capital to finance themselves. At the end of 2023, the mar-ket value of companies’ outstanding equities amounted to just over SEK 21,000 bil-lion, equivalent to around 340 percent of GDP. Of this, just over a third were listed eq-uities and the rest unlisted.26 Foreign investors account for the largest share of invest-ment in listed equities. This is followed by Swedish funds, non-financial companies and households, see Figure 12. There are also venture capital companies that invest in companies’ equity capital, but this is mainly in unlisted companies. Read more in the section Private equity firms. Companies are linked to different actors in more ways than through their savings and financing. They also enter into various types of derivative contract with banks to hedge against changes in, for example, commodity prices, exchange rates or interest rates, see Figure 4 above for an overview of the links. They are also linked to different actors by making recurrent payments and in the context of different payment  services, as described in more detail in the section Financial infrastructures enable payments.  1.3 Public sector Central government and municipalities fund themselves by issuing debt securities In addition to raising money through various taxes, the public sector uses the capital market to obtain funding. It does this by issuing debt securities. These include differ-ent types of bonds such as government and municipal bonds, which have longer ma-turities, and treasury bills and certificates, which have shorter maturities. In Sweden, the Swedish National Debt Office manages government borrowing and issues govern-ment bonds and treasury bills. At the end of 2023, the outstanding stock of issued public sector securities amounted to almost SEK 1,200 billion, see Figure 13. The ma-jority of this consisted of government bonds, but some, around SEK 250 billion, also consisted of municipal bonds issued by municipalities and regions. For municipalities and regions, the credit market company Kommuninvest, an economic association owned and governed by its members, which are municipalities and regions, also bor-rows approximately SEK 250 billion.27 Some funding, around SEK 100 billion, also comes from borrowing from banks and intergovernmental organisations.28  At the end of 2023, Sweden’s central government debt was just under 20 percent of GDP, see Figure 14. In the 2000s, central government debt fell sharply from the level  26 As the value of an equity depends on the company’s performance and the market’s expectations of fu-ture performance, this figure differs from the value of the equity capital the company raised at the begin-ning, so a direct comparison of the size of the interest-bearing debt is not entirely accurate. 27 Source: www.kommuninvest.se/download/18.e6f1d6318fa4a7c94d1fd4e/1716973996911/Kommunin-vest Annual Report 2023 (xhtml).xhtml  28 Source: https://kommuninvest.se/wp-content/uploads/2023/10/Den-kommunala-laneskulden-2023.pdf  (In Swedish only)', 'page_number': 5}, {'type': 'text', 'content': 'The real economy’s need for financial services \\n20 Figure 8. Financial assets of non-financial companies SEK billion \\n  Note. Refers to Swedish non-financial companies, including tenant-owner housing associations. “Loans” include net group loans. Excluding equity capital. Source: Statistics Sweden.  Companies need financing to make investments and run their operations. The type of financing on which they have to pay interest is called interest-bearing debt and amounted to just over SEK 5,500 billion at the end of 2023. This is equivalent to just under Sweden’s annual GDP. Of this, SEK 4,000 billion were loans from banks and other lenders and SEK 1,500 billion were issued debt securities, see Figure 9.  01 0002 0003 0004 0005 000\\n201820192020202120222023DepositsTrade credits and advancesFinancial derivativesOtherLoans', 'page_number': 1}, {'type': 'text', 'content': 'The real economy’s need for financial services \\n22 lenders about as much as they obtain financing by issuing debt securities, while me-dium-sized and small companies mainly borrow, see Figure 10. The highest share of securities borrowing is for companies active in energy and water supply, certain in-dustrial and property operations and certain service industries, see Figure 11. In terms of volume, property companies dominate securities borrowing. Companies in con-struction, trade, hotels and tourism mainly take out loans to finance their activities.  Figure 11. Non-financial companies’ borrowing, by sector SEK billion \\n  Note. Amount outstanding as at 31 December 2023. Loans and securities issues in all curren-cies to Swedish non-financial companies, nominal value.  Source: Statistics Sweden and the Riksbank. Companies’ loans mostly come from financial corporations, mainly banks, which ac-count for more than 70 percent of the loan volume, but other financial companies also contribute to some extent. In addition, loans come mainly from municipalities and regions and from foreign lenders.23 The debt securities issued by companies are mainly corporate bonds, but also com-mercial papers to some extent. Commercial papers have shorter maturities, up to one year, and bonds have longer maturities. Large, investment-grade Swedish companies account for most of the issue volumes on the corporate bond market. In recent years, however, more and more companies have chosen to issue bonds, including smaller, companies with a high yield credit rating As a consequence, the share of issuance by  23 Banks here refer to monetary financial institutions (MFIs) operating in Sweden, such as banks and credit market companies. Loans from municipalities and regions refer, for example, to loans to municipally or state-owned limited companies.   0 200 400 600 8001 0001 200\\nLoans from banksand other MFIsDebt securities', 'page_number': 3}, {'type': 'text', 'content': 'The real economy’s need for financial services \\n21 Figure 9. Non-financial companies’ debts SEK billion \\n  Note. Refers to Swedish non-financial companies, including tenant-owner housing associations. “Loans from banks and others” includes net group loans. Excluding equity capital. Source: Statistics Sweden. Figure 10. Non-financial companies’ borrowing, by size SEK billion \\n  Note. Amount outstanding as at 31 December 2023. Loans and securities issues in all curren-cies to Swedish non-financial companies, nominal value. The size classification is based on the European Commission Recommendation (2003/361/EC), where the combination of number of employees, turnover and assets affects the size classification.  Source: Statistics Sweden and the Riksbank. The ways in which companies finance their activities differ depending on their size and the sector in which they operate. Large companies borrow from banks and other  01 0002 0003 0004 0005 0006 0007 0008 0009 000\\n201820192020202120222023Loans from banks, etc.DebtsecuritiesTrade credits and advancesOther\\n 0 5001 0001 5002 0002 500\\nLarge enterprises,not publiclyownedLarge enterprises,publicly ownedSME: Small andmedium-sizedenterprisesSME: Micro-enterprisesTenant-ownerhousingassociationsLoansfrom banks and other MFIsDebt securities', 'page_number': 2}]\n",
      "x  Generated Answer: As of December 2023, the main sources of borrowing for large non-financial enterprises in Sweden include:\n",
      "\n",
      "1. **Bank Loans**: Large non-financial companies primarily secure financing through loans from banks and other financial institutions. This traditional source of funding remains significant, especially for companies that seek more stable and predictable financing options.\n",
      "\n",
      "2. **Debt Securities**: In addition to bank loans, large enterprises are increasingly turning to the issuance of debt securities. This trend has been facilitated by the low interest rates that followed the financial crisis, which made securities financing more attractive compared to bank loans. This method of financing is particularly popular among larger companies in sectors such as energy, water supply, and property operations.\n",
      "\n",
      "3. **Equity Capital**: Companies also utilize equity capital as a source of financing. By the end of 2023, the total market value of outstanding equities for these companies was around SEK 21,000 billion, which is a significant amount compared to the GDP. This includes both listed and unlisted equities, with foreign investors holding a substantial portion of the listed equities.\n",
      "\n",
      "Overall, large non-financial enterprises in Sweden leverage a mix of bank loans, debt securities, and equity capital to meet their financing needs for investments and operational activities.\n",
      "x  True Answer: The main sources of borrowing for large non-financial enterprises in Sweden as of December 2023 are loans from banks and other monetary financial institutions (MFIs) and debt securities.\n",
      "----------------------------------------\n",
      "Entry 3:\n",
      "x  Query: What types of borrowing dominate in the property sector compared to medium-sized and small companies?\n",
      "x  Retrieved Contexts: [{'type': 'text', 'content': 'The real economy’s need for financial services \\n23 unrated companies has also increased significantly. One contributing factor may be the low interest rates that followed the financial crisis, which lowered absolute re-turns and increased investor demand for riskier assets, as well as making the price of securities financing more favourable compared with the price of bank loans.  It is mainly foreign actors who invest in the debt securities issued by companies, fol-lowed by Swedish funds and Swedish insurance and pension companies, see Figure 12. The Riksbank owned 0.4 percent of the securities at the end of 2023, having pur-chased corporate bonds and commercial papers between September 2020 and De-cember 2022 to mitigate the effects of the coronavirus pandemic on the Swedish economy.24,25 Figure 12. Holders of issued corporate debt securities  and listed equities SEK billion and percent \\n  \\n  Note. Refers to the position as at 31 December 2023 for Swedish non-financial companies. “Banks” refer to monetary financial institutions (MFIs) operating in Sweden, which include banks and credit market companies. Source: Statistics Sweden and the Riksbank.  24 Read more about the Riksbank’s purchases of corporate bonds at Corporate bonds | Sveriges Riksbank, and in FACT BOX - The Riksbank’s role in the financial system. 25 Read more about the development of corporate bond holders in Investor behaviour in Swedish bond markets (riksbank.se) 0%0.4%2%2%4%4%10%16%63%\\n 0 200 400 600 8001 000HouseholdsThe RiksbankPublic sectorOther Sw. HoldersNon-financial companiesBanksInsurance and pension…FundsOther countriesIssued securities\\n0%4%7%8%9%14%15%43%\\n 01 0002 0003 0004 000BanksPublic sectorInsurance and pension…Other Sw. HoldersHouseholdsNon-financial companiesFundsOther countriesListed equities', 'page_number': 4}, {'type': 'text', 'content': 'The real economy’s need for financial services \\n24 Companies also use equity capital to finance themselves. At the end of 2023, the mar-ket value of companies’ outstanding equities amounted to just over SEK 21,000 bil-lion, equivalent to around 340 percent of GDP. Of this, just over a third were listed eq-uities and the rest unlisted.26 Foreign investors account for the largest share of invest-ment in listed equities. This is followed by Swedish funds, non-financial companies and households, see Figure 12. There are also venture capital companies that invest in companies’ equity capital, but this is mainly in unlisted companies. Read more in the section Private equity firms. Companies are linked to different actors in more ways than through their savings and financing. They also enter into various types of derivative contract with banks to hedge against changes in, for example, commodity prices, exchange rates or interest rates, see Figure 4 above for an overview of the links. They are also linked to different actors by making recurrent payments and in the context of different payment  services, as described in more detail in the section Financial infrastructures enable payments.  1.3 Public sector Central government and municipalities fund themselves by issuing debt securities In addition to raising money through various taxes, the public sector uses the capital market to obtain funding. It does this by issuing debt securities. These include differ-ent types of bonds such as government and municipal bonds, which have longer ma-turities, and treasury bills and certificates, which have shorter maturities. In Sweden, the Swedish National Debt Office manages government borrowing and issues govern-ment bonds and treasury bills. At the end of 2023, the outstanding stock of issued public sector securities amounted to almost SEK 1,200 billion, see Figure 13. The ma-jority of this consisted of government bonds, but some, around SEK 250 billion, also consisted of municipal bonds issued by municipalities and regions. For municipalities and regions, the credit market company Kommuninvest, an economic association owned and governed by its members, which are municipalities and regions, also bor-rows approximately SEK 250 billion.27 Some funding, around SEK 100 billion, also comes from borrowing from banks and intergovernmental organisations.28  At the end of 2023, Sweden’s central government debt was just under 20 percent of GDP, see Figure 14. In the 2000s, central government debt fell sharply from the level  26 As the value of an equity depends on the company’s performance and the market’s expectations of fu-ture performance, this figure differs from the value of the equity capital the company raised at the begin-ning, so a direct comparison of the size of the interest-bearing debt is not entirely accurate. 27 Source: www.kommuninvest.se/download/18.e6f1d6318fa4a7c94d1fd4e/1716973996911/Kommunin-vest Annual Report 2023 (xhtml).xhtml  28 Source: https://kommuninvest.se/wp-content/uploads/2023/10/Den-kommunala-laneskulden-2023.pdf  (In Swedish only)', 'page_number': 5}, {'type': 'text', 'content': 'The real economy’s need for financial services \\n20 Figure 8. Financial assets of non-financial companies SEK billion \\n  Note. Refers to Swedish non-financial companies, including tenant-owner housing associations. “Loans” include net group loans. Excluding equity capital. Source: Statistics Sweden.  Companies need financing to make investments and run their operations. The type of financing on which they have to pay interest is called interest-bearing debt and amounted to just over SEK 5,500 billion at the end of 2023. This is equivalent to just under Sweden’s annual GDP. Of this, SEK 4,000 billion were loans from banks and other lenders and SEK 1,500 billion were issued debt securities, see Figure 9.  01 0002 0003 0004 0005 000\\n201820192020202120222023DepositsTrade credits and advancesFinancial derivativesOtherLoans', 'page_number': 1}, {'type': 'text', 'content': 'The real economy’s need for financial services \\n21 Figure 9. Non-financial companies’ debts SEK billion \\n  Note. Refers to Swedish non-financial companies, including tenant-owner housing associations. “Loans from banks and others” includes net group loans. Excluding equity capital. Source: Statistics Sweden. Figure 10. Non-financial companies’ borrowing, by size SEK billion \\n  Note. Amount outstanding as at 31 December 2023. Loans and securities issues in all curren-cies to Swedish non-financial companies, nominal value. The size classification is based on the European Commission Recommendation (2003/361/EC), where the combination of number of employees, turnover and assets affects the size classification.  Source: Statistics Sweden and the Riksbank. The ways in which companies finance their activities differ depending on their size and the sector in which they operate. Large companies borrow from banks and other  01 0002 0003 0004 0005 0006 0007 0008 0009 000\\n201820192020202120222023Loans from banks, etc.DebtsecuritiesTrade credits and advancesOther\\n 0 5001 0001 5002 0002 500\\nLarge enterprises,not publiclyownedLarge enterprises,publicly ownedSME: Small andmedium-sizedenterprisesSME: Micro-enterprisesTenant-ownerhousingassociationsLoansfrom banks and other MFIsDebt securities', 'page_number': 2}, {'type': 'text', 'content': 'The real economy’s need for financial services \\n22 lenders about as much as they obtain financing by issuing debt securities, while me-dium-sized and small companies mainly borrow, see Figure 10. The highest share of securities borrowing is for companies active in energy and water supply, certain in-dustrial and property operations and certain service industries, see Figure 11. In terms of volume, property companies dominate securities borrowing. Companies in con-struction, trade, hotels and tourism mainly take out loans to finance their activities.  Figure 11. Non-financial companies’ borrowing, by sector SEK billion \\n  Note. Amount outstanding as at 31 December 2023. Loans and securities issues in all curren-cies to Swedish non-financial companies, nominal value.  Source: Statistics Sweden and the Riksbank. Companies’ loans mostly come from financial corporations, mainly banks, which ac-count for more than 70 percent of the loan volume, but other financial companies also contribute to some extent. In addition, loans come mainly from municipalities and regions and from foreign lenders.23 The debt securities issued by companies are mainly corporate bonds, but also com-mercial papers to some extent. Commercial papers have shorter maturities, up to one year, and bonds have longer maturities. Large, investment-grade Swedish companies account for most of the issue volumes on the corporate bond market. In recent years, however, more and more companies have chosen to issue bonds, including smaller, companies with a high yield credit rating As a consequence, the share of issuance by  23 Banks here refer to monetary financial institutions (MFIs) operating in Sweden, such as banks and credit market companies. Loans from municipalities and regions refer, for example, to loans to municipally or state-owned limited companies.   0 200 400 600 8001 0001 200\\nLoans from banksand other MFIsDebt securities', 'page_number': 3}]\n",
      "x  Generated Answer: In the property sector, borrowing primarily occurs through the issuance of debt securities, which has become a significant source of financing. This trend is largely influenced by the favorable conditions created by low interest rates following the financial crisis, which have encouraged investors to seek riskier assets, such as those in the property sector. Consequently, property companies are notable for their dominance in securities borrowing compared to medium-sized and small companies.\n",
      "\n",
      "In contrast, medium-sized and small companies typically rely more heavily on traditional bank loans for their financing needs. This reliance on bank loans indicates a preference for more straightforward and possibly lower-cost borrowing options, as opposed to the securities market, which may be less accessible for smaller firms.\n",
      "\n",
      "Overall, while the property sector leans more towards securities for financing, medium-sized and small companies primarily utilize bank loans, reflecting different financial strategies and access to capital markets based on their size and operational needs.\n",
      "x  True Answer: Property companies mainly dominate securities borrowing, while medium-sized and small companies mainly take out loans.\n",
      "----------------------------------------\n",
      "Entry 4:\n",
      "x  Query: What percentage of issued corporate debt securities is owned by the Riksbank as of the end of 2023?\n",
      "x  Retrieved Contexts: [{'type': 'text', 'content': 'The real economy’s need for financial services \\n23 unrated companies has also increased significantly. One contributing factor may be the low interest rates that followed the financial crisis, which lowered absolute re-turns and increased investor demand for riskier assets, as well as making the price of securities financing more favourable compared with the price of bank loans.  It is mainly foreign actors who invest in the debt securities issued by companies, fol-lowed by Swedish funds and Swedish insurance and pension companies, see Figure 12. The Riksbank owned 0.4 percent of the securities at the end of 2023, having pur-chased corporate bonds and commercial papers between September 2020 and De-cember 2022 to mitigate the effects of the coronavirus pandemic on the Swedish economy.24,25 Figure 12. Holders of issued corporate debt securities  and listed equities SEK billion and percent \\n  \\n  Note. Refers to the position as at 31 December 2023 for Swedish non-financial companies. “Banks” refer to monetary financial institutions (MFIs) operating in Sweden, which include banks and credit market companies. Source: Statistics Sweden and the Riksbank.  24 Read more about the Riksbank’s purchases of corporate bonds at Corporate bonds | Sveriges Riksbank, and in FACT BOX - The Riksbank’s role in the financial system. 25 Read more about the development of corporate bond holders in Investor behaviour in Swedish bond markets (riksbank.se) 0%0.4%2%2%4%4%10%16%63%\\n 0 200 400 600 8001 000HouseholdsThe RiksbankPublic sectorOther Sw. HoldersNon-financial companiesBanksInsurance and pension…FundsOther countriesIssued securities\\n0%4%7%8%9%14%15%43%\\n 01 0002 0003 0004 000BanksPublic sectorInsurance and pension…Other Sw. HoldersHouseholdsNon-financial companiesFundsOther countriesListed equities', 'page_number': 4}, {'type': 'text', 'content': 'The real economy’s need for financial services \\n24 Companies also use equity capital to finance themselves. At the end of 2023, the mar-ket value of companies’ outstanding equities amounted to just over SEK 21,000 bil-lion, equivalent to around 340 percent of GDP. Of this, just over a third were listed eq-uities and the rest unlisted.26 Foreign investors account for the largest share of invest-ment in listed equities. This is followed by Swedish funds, non-financial companies and households, see Figure 12. There are also venture capital companies that invest in companies’ equity capital, but this is mainly in unlisted companies. Read more in the section Private equity firms. Companies are linked to different actors in more ways than through their savings and financing. They also enter into various types of derivative contract with banks to hedge against changes in, for example, commodity prices, exchange rates or interest rates, see Figure 4 above for an overview of the links. They are also linked to different actors by making recurrent payments and in the context of different payment  services, as described in more detail in the section Financial infrastructures enable payments.  1.3 Public sector Central government and municipalities fund themselves by issuing debt securities In addition to raising money through various taxes, the public sector uses the capital market to obtain funding. It does this by issuing debt securities. These include differ-ent types of bonds such as government and municipal bonds, which have longer ma-turities, and treasury bills and certificates, which have shorter maturities. In Sweden, the Swedish National Debt Office manages government borrowing and issues govern-ment bonds and treasury bills. At the end of 2023, the outstanding stock of issued public sector securities amounted to almost SEK 1,200 billion, see Figure 13. The ma-jority of this consisted of government bonds, but some, around SEK 250 billion, also consisted of municipal bonds issued by municipalities and regions. For municipalities and regions, the credit market company Kommuninvest, an economic association owned and governed by its members, which are municipalities and regions, also bor-rows approximately SEK 250 billion.27 Some funding, around SEK 100 billion, also comes from borrowing from banks and intergovernmental organisations.28  At the end of 2023, Sweden’s central government debt was just under 20 percent of GDP, see Figure 14. In the 2000s, central government debt fell sharply from the level  26 As the value of an equity depends on the company’s performance and the market’s expectations of fu-ture performance, this figure differs from the value of the equity capital the company raised at the begin-ning, so a direct comparison of the size of the interest-bearing debt is not entirely accurate. 27 Source: www.kommuninvest.se/download/18.e6f1d6318fa4a7c94d1fd4e/1716973996911/Kommunin-vest Annual Report 2023 (xhtml).xhtml  28 Source: https://kommuninvest.se/wp-content/uploads/2023/10/Den-kommunala-laneskulden-2023.pdf  (In Swedish only)', 'page_number': 5}, {'type': 'text', 'content': 'The real economy’s need for financial services \\n20 Figure 8. Financial assets of non-financial companies SEK billion \\n  Note. Refers to Swedish non-financial companies, including tenant-owner housing associations. “Loans” include net group loans. Excluding equity capital. Source: Statistics Sweden.  Companies need financing to make investments and run their operations. The type of financing on which they have to pay interest is called interest-bearing debt and amounted to just over SEK 5,500 billion at the end of 2023. This is equivalent to just under Sweden’s annual GDP. Of this, SEK 4,000 billion were loans from banks and other lenders and SEK 1,500 billion were issued debt securities, see Figure 9.  01 0002 0003 0004 0005 000\\n201820192020202120222023DepositsTrade credits and advancesFinancial derivativesOtherLoans', 'page_number': 1}, {'type': 'text', 'content': 'The real economy’s need for financial services \\n22 lenders about as much as they obtain financing by issuing debt securities, while me-dium-sized and small companies mainly borrow, see Figure 10. The highest share of securities borrowing is for companies active in energy and water supply, certain in-dustrial and property operations and certain service industries, see Figure 11. In terms of volume, property companies dominate securities borrowing. Companies in con-struction, trade, hotels and tourism mainly take out loans to finance their activities.  Figure 11. Non-financial companies’ borrowing, by sector SEK billion \\n  Note. Amount outstanding as at 31 December 2023. Loans and securities issues in all curren-cies to Swedish non-financial companies, nominal value.  Source: Statistics Sweden and the Riksbank. Companies’ loans mostly come from financial corporations, mainly banks, which ac-count for more than 70 percent of the loan volume, but other financial companies also contribute to some extent. In addition, loans come mainly from municipalities and regions and from foreign lenders.23 The debt securities issued by companies are mainly corporate bonds, but also com-mercial papers to some extent. Commercial papers have shorter maturities, up to one year, and bonds have longer maturities. Large, investment-grade Swedish companies account for most of the issue volumes on the corporate bond market. In recent years, however, more and more companies have chosen to issue bonds, including smaller, companies with a high yield credit rating As a consequence, the share of issuance by  23 Banks here refer to monetary financial institutions (MFIs) operating in Sweden, such as banks and credit market companies. Loans from municipalities and regions refer, for example, to loans to municipally or state-owned limited companies.   0 200 400 600 8001 0001 200\\nLoans from banksand other MFIsDebt securities', 'page_number': 3}, {'type': 'text', 'content': 'The real economy’s need for financial services \\n21 Figure 9. Non-financial companies’ debts SEK billion \\n  Note. Refers to Swedish non-financial companies, including tenant-owner housing associations. “Loans from banks and others” includes net group loans. Excluding equity capital. Source: Statistics Sweden. Figure 10. Non-financial companies’ borrowing, by size SEK billion \\n  Note. Amount outstanding as at 31 December 2023. Loans and securities issues in all curren-cies to Swedish non-financial companies, nominal value. The size classification is based on the European Commission Recommendation (2003/361/EC), where the combination of number of employees, turnover and assets affects the size classification.  Source: Statistics Sweden and the Riksbank. The ways in which companies finance their activities differ depending on their size and the sector in which they operate. Large companies borrow from banks and other  01 0002 0003 0004 0005 0006 0007 0008 0009 000\\n201820192020202120222023Loans from banks, etc.DebtsecuritiesTrade credits and advancesOther\\n 0 5001 0001 5002 0002 500\\nLarge enterprises,not publiclyownedLarge enterprises,publicly ownedSME: Small andmedium-sizedenterprisesSME: Micro-enterprisesTenant-ownerhousingassociationsLoansfrom banks and other MFIsDebt securities', 'page_number': 2}]\n",
      "x  Generated Answer: The provided text does not specify the exact percentage of issued corporate debt securities owned by the Riksbank as of the end of 2023. To find this information, you may need to refer to the relevant financial reports or publications from the Riksbank or other authoritative financial sources that detail their holdings in corporate debt securities.\n",
      "x  True Answer: 0.4 percent\n",
      "----------------------------------------\n",
      "Entry 5:\n",
      "x  Query: What was the outstanding stock of issued public sector securities in Sweden at the end of 2023?\n",
      "x  Retrieved Contexts: [{'type': 'text', 'content': 'The real economy’s need for financial services \\n23 unrated companies has also increased significantly. One contributing factor may be the low interest rates that followed the financial crisis, which lowered absolute re-turns and increased investor demand for riskier assets, as well as making the price of securities financing more favourable compared with the price of bank loans.  It is mainly foreign actors who invest in the debt securities issued by companies, fol-lowed by Swedish funds and Swedish insurance and pension companies, see Figure 12. The Riksbank owned 0.4 percent of the securities at the end of 2023, having pur-chased corporate bonds and commercial papers between September 2020 and De-cember 2022 to mitigate the effects of the coronavirus pandemic on the Swedish economy.24,25 Figure 12. Holders of issued corporate debt securities  and listed equities SEK billion and percent \\n  \\n  Note. Refers to the position as at 31 December 2023 for Swedish non-financial companies. “Banks” refer to monetary financial institutions (MFIs) operating in Sweden, which include banks and credit market companies. Source: Statistics Sweden and the Riksbank.  24 Read more about the Riksbank’s purchases of corporate bonds at Corporate bonds | Sveriges Riksbank, and in FACT BOX - The Riksbank’s role in the financial system. 25 Read more about the development of corporate bond holders in Investor behaviour in Swedish bond markets (riksbank.se) 0%0.4%2%2%4%4%10%16%63%\\n 0 200 400 600 8001 000HouseholdsThe RiksbankPublic sectorOther Sw. HoldersNon-financial companiesBanksInsurance and pension…FundsOther countriesIssued securities\\n0%4%7%8%9%14%15%43%\\n 01 0002 0003 0004 000BanksPublic sectorInsurance and pension…Other Sw. HoldersHouseholdsNon-financial companiesFundsOther countriesListed equities', 'page_number': 4}, {'type': 'text', 'content': 'The real economy’s need for financial services \\n24 Companies also use equity capital to finance themselves. At the end of 2023, the mar-ket value of companies’ outstanding equities amounted to just over SEK 21,000 bil-lion, equivalent to around 340 percent of GDP. Of this, just over a third were listed eq-uities and the rest unlisted.26 Foreign investors account for the largest share of invest-ment in listed equities. This is followed by Swedish funds, non-financial companies and households, see Figure 12. There are also venture capital companies that invest in companies’ equity capital, but this is mainly in unlisted companies. Read more in the section Private equity firms. Companies are linked to different actors in more ways than through their savings and financing. They also enter into various types of derivative contract with banks to hedge against changes in, for example, commodity prices, exchange rates or interest rates, see Figure 4 above for an overview of the links. They are also linked to different actors by making recurrent payments and in the context of different payment  services, as described in more detail in the section Financial infrastructures enable payments.  1.3 Public sector Central government and municipalities fund themselves by issuing debt securities In addition to raising money through various taxes, the public sector uses the capital market to obtain funding. It does this by issuing debt securities. These include differ-ent types of bonds such as government and municipal bonds, which have longer ma-turities, and treasury bills and certificates, which have shorter maturities. In Sweden, the Swedish National Debt Office manages government borrowing and issues govern-ment bonds and treasury bills. At the end of 2023, the outstanding stock of issued public sector securities amounted to almost SEK 1,200 billion, see Figure 13. The ma-jority of this consisted of government bonds, but some, around SEK 250 billion, also consisted of municipal bonds issued by municipalities and regions. For municipalities and regions, the credit market company Kommuninvest, an economic association owned and governed by its members, which are municipalities and regions, also bor-rows approximately SEK 250 billion.27 Some funding, around SEK 100 billion, also comes from borrowing from banks and intergovernmental organisations.28  At the end of 2023, Sweden’s central government debt was just under 20 percent of GDP, see Figure 14. In the 2000s, central government debt fell sharply from the level  26 As the value of an equity depends on the company’s performance and the market’s expectations of fu-ture performance, this figure differs from the value of the equity capital the company raised at the begin-ning, so a direct comparison of the size of the interest-bearing debt is not entirely accurate. 27 Source: www.kommuninvest.se/download/18.e6f1d6318fa4a7c94d1fd4e/1716973996911/Kommunin-vest Annual Report 2023 (xhtml).xhtml  28 Source: https://kommuninvest.se/wp-content/uploads/2023/10/Den-kommunala-laneskulden-2023.pdf  (In Swedish only)', 'page_number': 5}, {'type': 'text', 'content': 'The real economy’s need for financial services \\n20 Figure 8. Financial assets of non-financial companies SEK billion \\n  Note. Refers to Swedish non-financial companies, including tenant-owner housing associations. “Loans” include net group loans. Excluding equity capital. Source: Statistics Sweden.  Companies need financing to make investments and run their operations. The type of financing on which they have to pay interest is called interest-bearing debt and amounted to just over SEK 5,500 billion at the end of 2023. This is equivalent to just under Sweden’s annual GDP. Of this, SEK 4,000 billion were loans from banks and other lenders and SEK 1,500 billion were issued debt securities, see Figure 9.  01 0002 0003 0004 0005 000\\n201820192020202120222023DepositsTrade credits and advancesFinancial derivativesOtherLoans', 'page_number': 1}, {'type': 'text', 'content': 'The real economy’s need for financial services \\n21 Figure 9. Non-financial companies’ debts SEK billion \\n  Note. Refers to Swedish non-financial companies, including tenant-owner housing associations. “Loans from banks and others” includes net group loans. Excluding equity capital. Source: Statistics Sweden. Figure 10. Non-financial companies’ borrowing, by size SEK billion \\n  Note. Amount outstanding as at 31 December 2023. Loans and securities issues in all curren-cies to Swedish non-financial companies, nominal value. The size classification is based on the European Commission Recommendation (2003/361/EC), where the combination of number of employees, turnover and assets affects the size classification.  Source: Statistics Sweden and the Riksbank. The ways in which companies finance their activities differ depending on their size and the sector in which they operate. Large companies borrow from banks and other  01 0002 0003 0004 0005 0006 0007 0008 0009 000\\n201820192020202120222023Loans from banks, etc.DebtsecuritiesTrade credits and advancesOther\\n 0 5001 0001 5002 0002 500\\nLarge enterprises,not publiclyownedLarge enterprises,publicly ownedSME: Small andmedium-sizedenterprisesSME: Micro-enterprisesTenant-ownerhousingassociationsLoansfrom banks and other MFIsDebt securities', 'page_number': 2}, {'type': 'text', 'content': 'The real economy’s need for financial services \\n22 lenders about as much as they obtain financing by issuing debt securities, while me-dium-sized and small companies mainly borrow, see Figure 10. The highest share of securities borrowing is for companies active in energy and water supply, certain in-dustrial and property operations and certain service industries, see Figure 11. In terms of volume, property companies dominate securities borrowing. Companies in con-struction, trade, hotels and tourism mainly take out loans to finance their activities.  Figure 11. Non-financial companies’ borrowing, by sector SEK billion \\n  Note. Amount outstanding as at 31 December 2023. Loans and securities issues in all curren-cies to Swedish non-financial companies, nominal value.  Source: Statistics Sweden and the Riksbank. Companies’ loans mostly come from financial corporations, mainly banks, which ac-count for more than 70 percent of the loan volume, but other financial companies also contribute to some extent. In addition, loans come mainly from municipalities and regions and from foreign lenders.23 The debt securities issued by companies are mainly corporate bonds, but also com-mercial papers to some extent. Commercial papers have shorter maturities, up to one year, and bonds have longer maturities. Large, investment-grade Swedish companies account for most of the issue volumes on the corporate bond market. In recent years, however, more and more companies have chosen to issue bonds, including smaller, companies with a high yield credit rating As a consequence, the share of issuance by  23 Banks here refer to monetary financial institutions (MFIs) operating in Sweden, such as banks and credit market companies. Loans from municipalities and regions refer, for example, to loans to municipally or state-owned limited companies.   0 200 400 600 8001 0001 200\\nLoans from banksand other MFIsDebt securities', 'page_number': 3}]\n",
      "x  Generated Answer: The outstanding stock of issued public sector securities in Sweden at the end of 2023 is not directly mentioned in the provided text. However, it is indicated that there is significant activity in the financial markets involving debt securities, particularly from non-financial companies and the influence of foreign investors. To find the specific amount of public sector securities, you may need to refer to official financial reports or statistics from Swedish financial authorities or institutions like Statistics Sweden.\n",
      "x  True Answer: Almost SEK 1,200 billion.\n",
      "----------------------------------------\n"
     ]
    }
   ],
   "source": [
    "for i, entry in enumerate(rag_generated_answers):\n",
    "    print(f\"Entry {i+1}:\")\n",
    "    print(f\"x  Query: {entry['query']}\")\n",
    "    print(f\"x  Retrieved Contexts: {entry['retrieved_contexts']}\")\n",
    "    print(f\"x  Generated Answer: {entry['generated_answer']}\")\n",
    "    print(f\"x  True Answer: {entry['true_answer']}\")\n",
    "    print(\"-\" * 40)"
   ]
  },
  {
   "cell_type": "markdown",
   "metadata": {},
   "source": [
    "### Evaluate Retrieval"
   ]
  },
  {
   "cell_type": "code",
   "execution_count": 6,
   "metadata": {},
   "outputs": [
    {
     "name": "stdout",
     "output_type": "stream",
     "text": [
      "MRR@3: 0.36666666666666664\n",
      "MRR@5: 0.44666666666666666\n"
     ]
    }
   ],
   "source": [
    "all_real_pages, all_retrieved_pages = [], []\n",
    "\n",
    "for rag_answer in rag_generated_answers:\n",
    "    real_page = next(\n",
    "        item[\"page_number\"] for item in qa_data if item[\"question\"] == rag_answer[\"query\"]\n",
    "    )\n",
    "    retrieved_pages = [doc[\"page_number\"] for doc in rag_answer[\"retrieved_contexts\"]]\n",
    "    \n",
    "    all_real_pages.append(real_page)\n",
    "    all_retrieved_pages.append(retrieved_pages)\n",
    "\n",
    "for k in [3, 5]:\n",
    "    mrr = compute_mrr_at_k(all_retrieved_pages, all_real_pages, k)\n",
    "    print(f\"MRR@{k}: {mrr}\")"
   ]
  },
  {
   "cell_type": "markdown",
   "metadata": {},
   "source": [
    "### Evaluate Generation"
   ]
  },
  {
   "cell_type": "code",
   "execution_count": null,
   "metadata": {},
   "outputs": [
    {
     "data": {
      "application/vnd.jupyter.widget-view+json": {
       "model_id": "d448421895f046ae843635c35ce48bfe",
       "version_major": 2,
       "version_minor": 0
      },
      "text/plain": [
       "Evaluating:   0%|          | 0/10 [00:00<?, ?it/s]"
      ]
     },
     "metadata": {},
     "output_type": "display_data"
    },
    {
     "name": "stdout",
     "output_type": "stream",
     "text": [
      "{'faithful_rate': 1.0000, 'relevance_rate': 1.0000}\n"
     ]
    }
   ],
   "source": [
    "# faithfulness_and_relevance = evaluate_generation(rag_generated_answers, evaluator_llm)\n",
    "# print(faithfulness_and_relevance)"
   ]
  }
 ],
 "metadata": {
  "kernelspec": {
   "display_name": "venv",
   "language": "python",
   "name": "python3"
  },
  "language_info": {
   "codemirror_mode": {
    "name": "ipython",
    "version": 3
   },
   "file_extension": ".py",
   "mimetype": "text/x-python",
   "name": "python",
   "nbconvert_exporter": "python",
   "pygments_lexer": "ipython3",
   "version": "3.12.5"
  }
 },
 "nbformat": 4,
 "nbformat_minor": 2
}
