{
 "cells": [
  {
   "cell_type": "markdown",
   "metadata": {},
   "source": [
    "### 1. Import"
   ]
  },
  {
   "cell_type": "code",
   "execution_count": 1,
   "metadata": {},
   "outputs": [],
   "source": [
    "import os\n",
    "import json\n",
    "\n",
    "from langchain_openai import ChatOpenAI\n",
    "from ragas.llms import LangchainLLMWrapper\n",
    "\n",
    "from document_processor import TextProcessor, ImageProcessor, PageImageProcessor, TextAndInlineImageProcessor\n",
    "from multimodal_rag import MultimodalRAG\n",
    "from embedder import OpenAIEmbedder, ColPaliEmbedder\n",
    "from pdf_to_qa import generate_qa_for_pdf\n",
    "from evaluation import evaluate_generation, compute_mrr_at_k"
   ]
  },
  {
   "cell_type": "markdown",
   "metadata": {},
   "source": [
    "### 2. Configuration"
   ]
  },
  {
   "cell_type": "code",
   "execution_count": 2,
   "metadata": {},
   "outputs": [
    {
     "data": {
      "application/vnd.jupyter.widget-view+json": {
       "model_id": "709802e9f98f49df98a62cd398b35308",
       "version_major": 2,
       "version_minor": 0
      },
      "text/plain": [
       "Loading checkpoint shards:   0%|          | 0/2 [00:00<?, ?it/s]"
      ]
     },
     "metadata": {},
     "output_type": "display_data"
    },
    {
     "ename": "TypeError",
     "evalue": "Got unsupported ScalarType BFloat16",
     "output_type": "error",
     "traceback": [
      "\u001b[0;31m---------------------------------------------------------------------------\u001b[0m",
      "\u001b[0;31mTypeError\u001b[0m                                 Traceback (most recent call last)",
      "Cell \u001b[0;32mIn[2], line 8\u001b[0m\n\u001b[1;32m      5\u001b[0m page_image_processor \u001b[38;5;241m=\u001b[39m PageImageProcessor(ColPaliEmbedder())\n\u001b[1;32m      6\u001b[0m \u001b[38;5;66;03m#text_inline_processor = TextAndInlineImageProcessor(OpenAIEmbedder())\u001b[39;00m\n\u001b[0;32m----> 8\u001b[0m rag \u001b[38;5;241m=\u001b[39m \u001b[43mMultimodalRAG\u001b[49m\u001b[43m(\u001b[49m\u001b[43m[\u001b[49m\u001b[43mpage_image_processor\u001b[49m\u001b[43m]\u001b[49m\u001b[43m,\u001b[49m\u001b[43m \u001b[49m\u001b[43mPDF_FILE\u001b[49m\u001b[43m)\u001b[49m\n\u001b[1;32m      9\u001b[0m evaluator_llm \u001b[38;5;241m=\u001b[39m LangchainLLMWrapper(ChatOpenAI(model\u001b[38;5;241m=\u001b[39m\u001b[38;5;124m\"\u001b[39m\u001b[38;5;124mgpt-4o-mini\u001b[39m\u001b[38;5;124m\"\u001b[39m)) \u001b[38;5;66;03m# For Ragas evaluation\u001b[39;00m\n",
      "File \u001b[0;32m~/masters-thesis/multimodal_rag.py:17\u001b[0m, in \u001b[0;36mMultimodalRAG.__init__\u001b[0;34m(self, processors, pdf_file)\u001b[0m\n\u001b[1;32m     15\u001b[0m \u001b[38;5;66;03m# Process the PDF in every document processor (builds the FAISS index and metadata)\u001b[39;00m\n\u001b[1;32m     16\u001b[0m \u001b[38;5;28;01mfor\u001b[39;00m processor \u001b[38;5;129;01min\u001b[39;00m \u001b[38;5;28mself\u001b[39m\u001b[38;5;241m.\u001b[39mprocessors:\n\u001b[0;32m---> 17\u001b[0m     \u001b[43mprocessor\u001b[49m\u001b[38;5;241;43m.\u001b[39;49m\u001b[43mprocess_pdf\u001b[49m\u001b[43m(\u001b[49m\u001b[43mpdf_file\u001b[49m\u001b[43m)\u001b[49m\n",
      "File \u001b[0;32m~/masters-thesis/document_processor.py:78\u001b[0m, in \u001b[0;36mPageImageProcessor.process_pdf\u001b[0;34m(self, pdf_file)\u001b[0m\n\u001b[1;32m     75\u001b[0m pages \u001b[38;5;241m=\u001b[39m convert_from_path(pdf_file, dpi\u001b[38;5;241m=\u001b[39m\u001b[38;5;28mself\u001b[39m\u001b[38;5;241m.\u001b[39mdpi)\n\u001b[1;32m     77\u001b[0m \u001b[38;5;28mself\u001b[39m\u001b[38;5;241m.\u001b[39mmetadata \u001b[38;5;241m=\u001b[39m [{\u001b[38;5;124m\"\u001b[39m\u001b[38;5;124mtype\u001b[39m\u001b[38;5;124m\"\u001b[39m: \u001b[38;5;124m\"\u001b[39m\u001b[38;5;124mpage_image\u001b[39m\u001b[38;5;124m\"\u001b[39m, \u001b[38;5;124m\"\u001b[39m\u001b[38;5;124mcontent\u001b[39m\u001b[38;5;124m\"\u001b[39m: encode_image_to_base64(page_img), \u001b[38;5;124m\"\u001b[39m\u001b[38;5;124mpage_number\u001b[39m\u001b[38;5;124m\"\u001b[39m: i \u001b[38;5;241m+\u001b[39m \u001b[38;5;241m1\u001b[39m} \u001b[38;5;28;01mfor\u001b[39;00m i, page_img \u001b[38;5;129;01min\u001b[39;00m \u001b[38;5;28menumerate\u001b[39m(pages)]\n\u001b[0;32m---> 78\u001b[0m \u001b[38;5;28mself\u001b[39m\u001b[38;5;241m.\u001b[39membeddings \u001b[38;5;241m=\u001b[39m \u001b[38;5;28;43mself\u001b[39;49m\u001b[38;5;241;43m.\u001b[39;49m\u001b[43membedder\u001b[49m\u001b[38;5;241;43m.\u001b[39;49m\u001b[43membed_image\u001b[49m\u001b[43m(\u001b[49m\u001b[43mpages\u001b[49m\u001b[43m)\u001b[49m\u001b[38;5;241m.\u001b[39mcpu()\u001b[38;5;241m.\u001b[39mnumpy()\u001b[38;5;241m.\u001b[39mastype(\u001b[38;5;124m\"\u001b[39m\u001b[38;5;124mfloat32\u001b[39m\u001b[38;5;124m\"\u001b[39m)  \u001b[38;5;66;03m# Convert to NumPy float32\u001b[39;00m\n\u001b[1;32m     80\u001b[0m \u001b[38;5;28;01mif\u001b[39;00m \u001b[38;5;129;01mnot\u001b[39;00m \u001b[38;5;28mself\u001b[39m\u001b[38;5;241m.\u001b[39membedder\u001b[38;5;241m.\u001b[39mhas_custom_search:\n\u001b[1;32m     81\u001b[0m     \u001b[38;5;28mself\u001b[39m\u001b[38;5;241m.\u001b[39mbuild_faiss_index()\n",
      "File \u001b[0;32m~/masters-thesis/embedder.py:65\u001b[0m, in \u001b[0;36mColPaliEmbedder.embed_image\u001b[0;34m(self, images)\u001b[0m\n\u001b[1;32m     63\u001b[0m \u001b[38;5;28;01mwith\u001b[39;00m torch\u001b[38;5;241m.\u001b[39mno_grad():\n\u001b[1;32m     64\u001b[0m     image_emb \u001b[38;5;241m=\u001b[39m \u001b[38;5;28mself\u001b[39m\u001b[38;5;241m.\u001b[39mmodel(\u001b[38;5;241m*\u001b[39m\u001b[38;5;241m*\u001b[39mimage_inputs)\n\u001b[0;32m---> 65\u001b[0m \u001b[38;5;28;01mreturn\u001b[39;00m \u001b[43mimage_emb\u001b[49m\u001b[38;5;241;43m.\u001b[39;49m\u001b[43mcpu\u001b[49m\u001b[43m(\u001b[49m\u001b[43m)\u001b[49m\u001b[38;5;241;43m.\u001b[39;49m\u001b[43mnumpy\u001b[49m\u001b[43m(\u001b[49m\u001b[43m)\u001b[49m\u001b[38;5;241m.\u001b[39mastype(\u001b[38;5;124m\"\u001b[39m\u001b[38;5;124mfloat32\u001b[39m\u001b[38;5;124m\"\u001b[39m)\n",
      "\u001b[0;31mTypeError\u001b[0m: Got unsupported ScalarType BFloat16"
     ]
    }
   ],
   "source": [
    "PDF_FILE = \"knowledge/subset_riksbanken.pdf\"\n",
    "\n",
    "#text_processor = TextProcessor(OpenAIEmbedder())\n",
    "#image_processor = ImageProcessor(ColPaliEmbedder())\n",
    "page_image_processor = PageImageProcessor(ColPaliEmbedder())\n",
    "#text_inline_processor = TextAndInlineImageProcessor(OpenAIEmbedder())\n",
    "\n",
    "rag = MultimodalRAG([page_image_processor], PDF_FILE)\n",
    "evaluator_llm = LangchainLLMWrapper(ChatOpenAI(model=\"gpt-4o-mini\")) # For Ragas evaluation"
   ]
  },
  {
   "cell_type": "markdown",
   "metadata": {},
   "source": [
    "### 3. Generate Dataset"
   ]
  },
  {
   "cell_type": "code",
   "execution_count": null,
   "metadata": {},
   "outputs": [],
   "source": [
    "# Check if QA file already exists\n",
    "qa_filepath = \"QA_\" + os.path.basename(PDF_FILE).replace('.pdf', '.json')\n",
    "\n",
    "if os.path.exists(qa_filepath):\n",
    "    qa_path = qa_filepath\n",
    "    print(f\"Using existing QA file: {qa_path}\")\n",
    "else:\n",
    "    qa_path = generate_qa_for_pdf(PDF_FILE)\n",
    "    print(f\"Generated new QA file: {qa_path}\")\n",
    "\n",
    "with open(qa_path, 'r', encoding='utf-8') as f:\n",
    "    qa_data = json.load(f)\n",
    "    "
   ]
  },
  {
   "cell_type": "markdown",
   "metadata": {},
   "source": [
    "### 4. Answering the QA"
   ]
  },
  {
   "cell_type": "code",
   "execution_count": null,
   "metadata": {},
   "outputs": [],
   "source": [
    "with open(qa_path, 'r', encoding='utf-8') as f:\n",
    "    qa_data = json.load(f)\n",
    "\n",
    "# Generate dataset\n",
    "rag_generated_answers = []\n",
    "\n",
    "# Check if generated answers file already exists\n",
    "rag_answers_path = \"rag_generated_answers_\" + os.path.basename(qa_path)\n",
    "\n",
    "if os.path.exists(rag_answers_path):\n",
    "    rag_generated_answers = json.load(open(rag_answers_path, 'r', encoding='utf-8'))\n",
    "    print(f\"Using existing RAG generated answers file: {rag_answers_path}\")\n",
    "else:\n",
    "    for qa in qa_data:\n",
    "        query = qa[\"question\"]\n",
    "        reference = qa[\"answer\"]\n",
    "\n",
    "        relevant_docs = rag.get_most_relevant_docs(query, top_k=10)\n",
    "        response = rag.generate_answer(query, relevant_docs)\n",
    "        rag_generated_answers.append(\n",
    "            {\n",
    "                \"query\":query,\n",
    "                \"retrieved_contexts\":relevant_docs,\n",
    "                \"generated_answer\":response,\n",
    "                \"true_answer\":reference\n",
    "            }\n",
    "        )\n",
    "\n",
    "    # Save the dataset to a JSON file\n",
    "    output_dataset_file = \"rag_generated_answers_\" + os.path.basename(qa_path)\n",
    "\n",
    "    with open(output_dataset_file, 'w', encoding='utf-8') as f:\n",
    "        json.dump(rag_generated_answers, f, ensure_ascii=False, indent=4)\n",
    "    print(f\"Generated new RAG generated answers file: {output_dataset_file}\")"
   ]
  },
  {
   "cell_type": "markdown",
   "metadata": {},
   "source": [
    "### 5. Evaluate Retrieval"
   ]
  },
  {
   "cell_type": "code",
   "execution_count": null,
   "metadata": {},
   "outputs": [],
   "source": [
    "all_real_pages, all_retrieved_pages = [], []\n",
    "\n",
    "for rag_answer in rag_generated_answers:\n",
    "    real_page = next(\n",
    "        item[\"page_number\"] for item in qa_data if item[\"question\"] == rag_answer[\"query\"]\n",
    "    )\n",
    "    retrieved_pages = [doc[\"page_number\"] for doc in rag_answer[\"retrieved_contexts\"]]\n",
    "    \n",
    "    all_real_pages.append(real_page)\n",
    "    all_retrieved_pages.append(retrieved_pages)\n",
    "\n",
    "mrr = compute_mrr_at_k(all_retrieved_pages, all_real_pages, k=10)\n",
    "print(f\"MRR@{k}: {mrr}\")"
   ]
  },
  {
   "cell_type": "markdown",
   "metadata": {},
   "source": [
    "### 6. Evaluate Generation"
   ]
  },
  {
   "cell_type": "code",
   "execution_count": null,
   "metadata": {},
   "outputs": [],
   "source": [
    "faithfulness_and_relevance = evaluate_generation(rag_generated_answers, evaluator_llm)\n",
    "print(faithfulness_and_relevance)"
   ]
  }
 ],
 "metadata": {
  "kernelspec": {
   "display_name": "venv",
   "language": "python",
   "name": "python3"
  },
  "language_info": {
   "codemirror_mode": {
    "name": "ipython",
    "version": 3
   },
   "file_extension": ".py",
   "mimetype": "text/x-python",
   "name": "python",
   "nbconvert_exporter": "python",
   "pygments_lexer": "ipython3",
   "version": "3.10.16"
  }
 },
 "nbformat": 4,
 "nbformat_minor": 2
}
