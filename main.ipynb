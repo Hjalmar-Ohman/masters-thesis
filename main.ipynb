{
 "cells": [
  {
   "cell_type": "markdown",
   "metadata": {},
   "source": [
    "### 1. IMPORT"
   ]
  },
  {
   "cell_type": "code",
   "execution_count": 1,
   "metadata": {},
   "outputs": [],
   "source": [
    "import os\n",
    "import json\n",
    "\n",
    "from langchain_openai import ChatOpenAI\n",
    "from ragas import evaluate, EvaluationDataset\n",
    "from ragas.llms import LangchainLLMWrapper\n",
    "from ragas.metrics import MultiModalRelevance, MultiModalFaithfulness\n",
    "\n",
    "from multimodal_rag import MultimodalRAG\n",
    "from multimodal_embedder import create_embedder\n",
    "from pdf_to_qa import generate_qa_for_pdf"
   ]
  },
  {
   "cell_type": "markdown",
   "metadata": {},
   "source": [
    "### 2. Configuration"
   ]
  },
  {
   "cell_type": "code",
   "execution_count": null,
   "metadata": {},
   "outputs": [
    {
     "ename": "ValueError",
     "evalue": "Unsupported page_mode='per_page'",
     "output_type": "error",
     "traceback": [
      "\u001b[1;31m---------------------------------------------------------------------------\u001b[0m",
      "\u001b[1;31mValueError\u001b[0m                                Traceback (most recent call last)",
      "Cell \u001b[1;32mIn[2], line 4\u001b[0m\n\u001b[0;32m      1\u001b[0m PDF_FILE \u001b[38;5;241m=\u001b[39m \u001b[38;5;124m\"\u001b[39m\u001b[38;5;124mknowledge/subset_monetary_policy_report.pdf\u001b[39m\u001b[38;5;124m\"\u001b[39m\n\u001b[0;32m      2\u001b[0m EMBEDDER \u001b[38;5;241m=\u001b[39m \u001b[38;5;124m\"\u001b[39m\u001b[38;5;124msiglip\u001b[39m\u001b[38;5;124m\"\u001b[39m\n\u001b[1;32m----> 4\u001b[0m rag \u001b[38;5;241m=\u001b[39m \u001b[43mMultimodalRAG\u001b[49m\u001b[43m(\u001b[49m\u001b[43mpdf_file\u001b[49m\u001b[38;5;241;43m=\u001b[39;49m\u001b[43mPDF_FILE\u001b[49m\u001b[43m,\u001b[49m\u001b[43m \u001b[49m\u001b[43membedder\u001b[49m\u001b[38;5;241;43m=\u001b[39;49m\u001b[43mcreate_embedder\u001b[49m\u001b[43m(\u001b[49m\u001b[43mEMBEDDER\u001b[49m\u001b[43m)\u001b[49m\u001b[43m,\u001b[49m\u001b[43m \u001b[49m\u001b[43mpage_mode\u001b[49m\u001b[38;5;241;43m=\u001b[39;49m\u001b[38;5;124;43m\"\u001b[39;49m\u001b[38;5;124;43mper_page\u001b[39;49m\u001b[38;5;124;43m\"\u001b[39;49m\u001b[43m)\u001b[49m\n\u001b[0;32m      5\u001b[0m evaluator_llm \u001b[38;5;241m=\u001b[39m LangchainLLMWrapper(ChatOpenAI(model\u001b[38;5;241m=\u001b[39m\u001b[38;5;124m\"\u001b[39m\u001b[38;5;124mgpt-4o-mini\u001b[39m\u001b[38;5;124m\"\u001b[39m)) \u001b[38;5;66;03m# For Ragas evaluation\u001b[39;00m\n",
      "File \u001b[1;32mc:\\Skola\\Master's Thesis\\masters-thesis\\multimodal_rag.py:48\u001b[0m, in \u001b[0;36mMultimodalRAG.__init__\u001b[1;34m(self, pdf_file, embedder, page_mode, dpi)\u001b[0m\n\u001b[0;32m     46\u001b[0m     \u001b[38;5;28mself\u001b[39m\u001b[38;5;241m.\u001b[39m_process_pdf_as_pages()\n\u001b[0;32m     47\u001b[0m \u001b[38;5;28;01melse\u001b[39;00m:\n\u001b[1;32m---> 48\u001b[0m     \u001b[38;5;28;01mraise\u001b[39;00m \u001b[38;5;167;01mValueError\u001b[39;00m(\u001b[38;5;124mf\u001b[39m\u001b[38;5;124m\"\u001b[39m\u001b[38;5;124mUnsupported page_mode=\u001b[39m\u001b[38;5;132;01m{\u001b[39;00m\u001b[38;5;28mself\u001b[39m\u001b[38;5;241m.\u001b[39mpage_mode\u001b[38;5;132;01m!r}\u001b[39;00m\u001b[38;5;124m\"\u001b[39m)\n\u001b[0;32m     50\u001b[0m \u001b[38;5;66;03m# Build Faiss index\u001b[39;00m\n\u001b[0;32m     51\u001b[0m \u001b[38;5;28mself\u001b[39m\u001b[38;5;241m.\u001b[39m_build_faiss_index()\n",
      "\u001b[1;31mValueError\u001b[0m: Unsupported page_mode='per_page'"
     ]
    }
   ],
   "source": [
    "PDF_FILE = \"knowledge/subset_monetary_policy_report.pdf\"\n",
    "EMBEDDER = \"siglip\"\n",
    "\n",
    "rag = MultimodalRAG(pdf_file=PDF_FILE, embedder=create_embedder(EMBEDDER), page_mode=\"image_only\")\n",
    "evaluator_llm = LangchainLLMWrapper(ChatOpenAI(model=\"gpt-4o-mini\")) # For Ragas evaluation"
   ]
  },
  {
   "cell_type": "markdown",
   "metadata": {},
   "source": [
    "### Generate Dataset"
   ]
  },
  {
   "cell_type": "code",
   "execution_count": null,
   "metadata": {},
   "outputs": [],
   "source": [
    "# Check if QA file already exists\n",
    "qa_filepath = \"QA_\" + os.path.basename(PDF_FILE).replace('.pdf', '.json')\n",
    "\n",
    "if os.path.exists(qa_filepath):\n",
    "    qa_path = qa_filepath\n",
    "    print(f\"Using existing QA file: {qa_path}\")\n",
    "else:\n",
    "    qa_path = generate_qa_for_pdf(PDF_FILE)\n",
    "    print(f\"Generated new QA file: {qa_path}\")"
   ]
  },
  {
   "cell_type": "markdown",
   "metadata": {},
   "source": [
    "### 3. Answering the QA"
   ]
  },
  {
   "cell_type": "code",
   "execution_count": null,
   "metadata": {},
   "outputs": [],
   "source": [
    "with open(qa_path, 'r', encoding='utf-8') as f:\n",
    "    qa_data = json.load(f)\n",
    "    \n",
    "# Generate dataset\n",
    "rag_generated_answers = []\n",
    "\n",
    "# Check if generated answers file already exists\n",
    "generated_answer_filepath = \"rag_generated_answers_\" + os.path.basename(qa_path)\n",
    "\n",
    "if os.path.exists(generated_answer_filepath):\n",
    "    rag_generated_answers = json.load(open(generated_answer_filepath, 'r', encoding='utf-8'))\n",
    "else:\n",
    "    for qa in qa_data:\n",
    "        query = qa[\"question\"]\n",
    "        reference = qa[\"answer\"]\n",
    "\n",
    "        relevant_docs = rag.get_most_relevant_docs(query)\n",
    "        response = rag.generate_answer(query, relevant_docs)\n",
    "        rag_generated_answers.append(\n",
    "            {\n",
    "                \"user_input\":query,\n",
    "                \"retrieved_contexts\":relevant_docs,\n",
    "                \"response\":response,\n",
    "                \"reference\":reference\n",
    "            }\n",
    "        )\n",
    "\n",
    "    # Save the dataset to a JSON file\n",
    "    output_dataset_file = \"rag_generated_answers_\" + os.path.basename(qa_path)\n",
    "\n",
    "    with open(output_dataset_file, 'w', encoding='utf-8') as f:\n",
    "        json.dump(rag_generated_answers, f, ensure_ascii=False, indent=4)"
   ]
  },
  {
   "cell_type": "code",
   "execution_count": null,
   "metadata": {},
   "outputs": [],
   "source": [
    "for i, entry in enumerate(rag_generated_answers):\n",
    "    print(f\"Entry {i+1}:\")\n",
    "    print(f\"  User Input: {entry['user_input']}\")\n",
    "    print(f\"  Retrieved Contexts: {entry['retrieved_contexts']}\")\n",
    "    print(f\"  Response: {entry['response']}\")\n",
    "    print(f\"  Reference: {entry['reference']}\")\n",
    "    print(\"-\" * 40)"
   ]
  },
  {
   "cell_type": "markdown",
   "metadata": {},
   "source": [
    "### Generation Evaluation"
   ]
  },
  {
   "cell_type": "code",
   "execution_count": null,
   "metadata": {},
   "outputs": [],
   "source": [
    "processed_rag_generated_answers = []\n",
    "\n",
    "for sample in rag_generated_answers:\n",
    "    processed_sample = sample.copy()\n",
    "    processed_sample[\"retrieved_contexts\"] = [\n",
    "        context[\"content\"] for context in sample[\"retrieved_contexts\"]\n",
    "    ]\n",
    "    processed_rag_generated_answers.append(processed_sample)\n",
    "\n",
    "evaluation_dataset = EvaluationDataset.from_list(processed_rag_generated_answers)\n",
    "\n",
    "result = evaluate(dataset=evaluation_dataset, metrics=[MultiModalFaithfulness(), MultiModalRelevance()], llm=evaluator_llm)\n",
    "result"
   ]
  }
 ],
 "metadata": {
  "kernelspec": {
   "display_name": "venv",
   "language": "python",
   "name": "python3"
  },
  "language_info": {
   "codemirror_mode": {
    "name": "ipython",
    "version": 3
   },
   "file_extension": ".py",
   "mimetype": "text/x-python",
   "name": "python",
   "nbconvert_exporter": "python",
   "pygments_lexer": "ipython3",
   "version": "3.12.5"
  }
 },
 "nbformat": 4,
 "nbformat_minor": 2
}
