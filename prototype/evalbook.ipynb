{
 "cells": [
  {
   "attachments": {},
   "cell_type": "markdown",
   "metadata": {},
   "source": [
    "## Evaluation notebook\n",
    "\n",
    "### 1. Install / Import"
   ]
  },
  {
   "cell_type": "code",
   "execution_count": null,
   "metadata": {},
   "outputs": [],
   "source": [
    "import json\n",
    "from pdf2image import convert_from_path\n",
    "from common_utils import embed_texts, embed_images, encode_image_to_base64, search_index, retrieve_context, call_gpt_4, extract_figures_from_pdf\n",
    "from ragas import EvaluationDataset, evaluate\n",
    "from ragas.llms import LangchainLLMWrapper\n",
    "from ragas.metrics import LLMContextRecall, Faithfulness, FactualCorrectness\n",
    "from RAGasClass import RAG\n",
    "from dotenv import load_dotenv\n",
    "from config import OPENAI_API_KEY\n",
    "from PIL import Image\n",
    "load_dotenv()\n",
    "from PyPDF2 import PdfReader"
   ]
  },
  {
   "attachments": {},
   "cell_type": "markdown",
   "metadata": {},
   "source": [
    "### 2. EXTRACT IMAGES"
   ]
  },
  {
   "cell_type": "code",
   "execution_count": null,
   "metadata": {},
   "outputs": [],
   "source": [
    "file =\"../knowledge/subset_monetary_policy_report.pdf\"\n",
    "\n",
    "import cv2\n",
    "import numpy as np\n",
    "from PIL import Image\n",
    "import os\n",
    "import fitz  # PyMuPDF\n",
    "\n",
    "def extract_images_from_pdf(pdf_path, output_folder=\"extracted_data\", padding=300, xpadding = 300):\n",
    "    os.makedirs(output_folder, exist_ok=True)  # Create output folder\n",
    "    image_paths = []\n",
    "    \n",
    "    # Open the PDF document\n",
    "    doc = fitz.open(pdf_path)\n",
    "    \n",
    "    # Loop through all pages in the PDF\n",
    "    for page_index in range(len(doc)):\n",
    "        page = doc.load_page(page_index)  # Load the page\n",
    "        \n",
    "        # Rasterize the page to an image\n",
    "        pix = page.get_pixmap(dpi=300)  # Convert to image with high DPI\n",
    "        full_image_path = os.path.join(output_folder, f\"full_page_{page_index + 1}.png\")\n",
    "        pix.save(full_image_path)\n",
    "        \n",
    "        # Convert the image to OpenCV format (numpy array)\n",
    "        full_image = cv2.imread(full_image_path)\n",
    "        \n",
    "        # Convert to grayscale\n",
    "        gray_image = cv2.cvtColor(full_image, cv2.COLOR_BGR2GRAY)\n",
    "        \n",
    "        # Threshold to create a binary image (to highlight potential image areas)\n",
    "        _, thresh = cv2.threshold(gray_image, 240, 255, cv2.THRESH_BINARY_INV)\n",
    "        \n",
    "        # Find contours (regions that are \"boxes\" in the image)\n",
    "        contours, _ = cv2.findContours(thresh, cv2.RETR_EXTERNAL, cv2.CHAIN_APPROX_SIMPLE)\n",
    "        \n",
    "        # Loop through contours and crop the image regions\n",
    "        img_index = 0\n",
    "        for contour in contours:\n",
    "            # Get the bounding box of each contour (x, y, width, height)\n",
    "            x, y, w, h = cv2.boundingRect(contour)\n",
    "            \n",
    "            # Ignore small areas (you can adjust the threshold for min area size)\n",
    "            if w > 50 and h > 50:\n",
    "                # Add padding to the bounding box\n",
    "                x_padded = max(x - padding, 0)  # Ensure x doesn't go below 0\n",
    "                y_padded = max(y - padding, 0)  # Ensure y doesn't go below 0\n",
    "                w_padded = min(w + 2 * xpadding, full_image.shape[1] - x_padded)  # Ensure width doesn't exceed image\n",
    "                h_padded = min(h + 2 * padding, full_image.shape[0] - y_padded)  # Ensure height doesn't exceed image\n",
    "                \n",
    "                # Crop the image with padding\n",
    "                cropped_image = full_image[y_padded:y_padded + h_padded, x_padded:x_padded + w_padded]\n",
    "                \n",
    "                # Convert cropped image to PIL format to save it as PNG\n",
    "                pil_image = Image.fromarray(cv2.cvtColor(cropped_image, cv2.COLOR_BGR2RGB))\n",
    "                img_filename = f\"page_{page_index + 1}_image_{img_index + 1}.png\"\n",
    "                img_path = os.path.join(output_folder, img_filename)\n",
    "                pil_image.save(img_path, \"PNG\")\n",
    "                \n",
    "                image_paths.append({\"image_path\": img_path})\n",
    "                img_index += 1\n",
    "    \n",
    "    doc.close()\n",
    "    return image_paths\n",
    "\n",
    "# image_paths = extract_images_from_pdf(file)\n"
   ]
  },
  {
   "attachments": {},
   "cell_type": "markdown",
   "metadata": {},
   "source": [
    "### 3. EXTRACT TEXT"
   ]
  },
  {
   "cell_type": "code",
   "execution_count": null,
   "metadata": {},
   "outputs": [],
   "source": [
    "def extract_text_from_pdf(pdf_path):\n",
    "    text_data = []\n",
    "    # Extract text\n",
    "    reader = PdfReader(file)\n",
    "    num_pages = len(reader.pages)\n",
    "\n",
    "    for page_i in range(num_pages):\n",
    "        page = reader.pages[page_i]\n",
    "        page_text = page.extract_text()\n",
    "        \n",
    "        if page_text and page_text.strip():\n",
    "            text_data.append({\n",
    "                \"text\": page_text.strip(),\n",
    "                \"page_number\": page_i + 1\n",
    "            })\n",
    "    return text_data\n",
    "\n",
    "#text_data = extract_text_from_pdf(file)\n",
    "#print(text_data)\n",
    "\n"
   ]
  },
  {
   "cell_type": "markdown",
   "metadata": {},
   "source": [
    "### 4. Generate questions"
   ]
  },
  {
   "cell_type": "code",
   "execution_count": null,
   "metadata": {},
   "outputs": [],
   "source": [
    "def generate_qa_for_pdf(pdf_path):\n",
    "    output_json = \"QA_\" + os.path.basename(pdf_path).replace('.pdf', '.json')\n",
    "\n",
    "    # Extract images and text from PDF\n",
    "    image_data = extract_images_from_pdf(pdf_path)\n",
    "    text_data = extract_text_from_pdf(pdf_path)\n",
    "\n",
    "    sample_queries = []\n",
    "    expected_responses = []\n",
    "    qa_data = []\n",
    "\n",
    "    # Iterate over text data to generate questions\n",
    "    for text_info in text_data:\n",
    "        page_number = text_info[\"page_number\"]\n",
    "        page_text = text_info[\"text\"]\n",
    "\n",
    "        user_prompt = json.dumps([\n",
    "            {\"type\": \"text\", \"text\": (\n",
    "                \"Your task is to formulate a question from the given context while following these rules:\\n\"\n",
    "                \"1. The question must be answerable using the provided context.\\n\"\n",
    "                \"2. It should be based on non-trivial information.\\n\"\n",
    "                \"3. The answer must not contain any links.\\n\"\n",
    "                \"4. The question should be of moderate difficulty.\\n\"\n",
    "                \"5. Avoid phrases like 'provided context'.\\n\"\n",
    "                \"6. The response must be in valid JSON format as follows:\\n\"\n",
    "                \"{'question': 'Generated question here', 'answer': 'Generated answer here'}\"\n",
    "            )},\n",
    "            {\"type\": \"text\", \"text\": page_text}\n",
    "        ])\n",
    "        \n",
    "        response_text = call_gpt_4(user_prompt)\n",
    "        #print(f\"Raw API response for text (page {page_number}):\", response_text)\n",
    "\n",
    "        try:\n",
    "            cleaned_response_text = response_text.strip(\"```json\").strip(\"```\")  # Remove surrounding backticks\n",
    "            response_data = json.loads(cleaned_response_text)\n",
    "            question = response_data.get(\"question\")\n",
    "            answer = response_data.get(\"answer\")\n",
    "\n",
    "            if question and answer:\n",
    "                sample_queries.append(question)\n",
    "                expected_responses.append(answer)\n",
    "                qa_data.append({\"page_number\": page_number, \"question\": question, \"answer\": answer})\n",
    "            else:\n",
    "                print(f\"Warning: Missing Q&A data for text on page {page_number}\")\n",
    "\n",
    "        except json.JSONDecodeError as e:\n",
    "            print(f\"Error decoding JSON response for text on page {page_number}: {e}\")\n",
    "            print(\"Response text:\", response_text)\n",
    "            continue\n",
    "\n",
    "    # Iterate over image data to generate questions\n",
    "    for image_info in image_data:\n",
    "        page_number = image_info[\"image_path\"].split(\"_\")[2]  # Extract page number from image path\n",
    "        image_path = image_info[\"image_path\"]\n",
    "\n",
    "        # Convert the image to base64 for processing\n",
    "        image = Image.open(image_path)\n",
    "        base64_str = encode_image_to_base64(image)\n",
    "\n",
    "        user_prompt = json.dumps([\n",
    "            {\"type\": \"text\", \"text\": (\n",
    "                \"Your task is to formulate a question from the given image while following these rules:\\n\"\n",
    "                \"1. The question must be answerable using the provided image.\\n\"\n",
    "                \"2. It should be based on non-trivial information.\\n\"\n",
    "                \"3. The answer must not contain any links.\\n\"\n",
    "                \"4. The question should be of moderate difficulty.\\n\"\n",
    "                \"5. Avoid phrases like 'provided image'.\\n\"\n",
    "                \"6. The response must be in valid JSON format as follows:\\n\"\n",
    "                \"{'question': 'Generated question here', 'answer': 'Generated answer here'}\"\n",
    "            )},\n",
    "            {\"type\": \"image_url\", \"image_url\": {\"url\": f\"data:image/png;base64,{base64_str}\"}}\n",
    "        ])\n",
    "\n",
    "        response_text = call_gpt_4(user_prompt)\n",
    "        #print(f\"Raw API response for image (page {page_number}):\", response_text)\n",
    "\n",
    "        try:\n",
    "            cleaned_response_text = response_text.strip(\"```json\").strip(\"```\")  # Remove surrounding backticks\n",
    "            response_data = json.loads(cleaned_response_text)\n",
    "            question = response_data.get(\"question\")\n",
    "            answer = response_data.get(\"answer\")\n",
    "\n",
    "            if question and answer:\n",
    "                sample_queries.append(question)\n",
    "                expected_responses.append(answer)\n",
    "                qa_data.append({\"page_number\": page_number, \"question\": question, \"answer\": answer})\n",
    "            else:\n",
    "                print(f\"Warning: Missing Q&A data for image on page {page_number}\")\n",
    "\n",
    "        except json.JSONDecodeError as e:\n",
    "            print(f\"Error decoding JSON response for image on page {page_number}: {e}\")\n",
    "            print(\"Response text:\", response_text)\n",
    "            continue\n",
    "\n",
    "    # Output structured data\n",
    "    output = {\n",
    "        \"sample_queries\": sample_queries,\n",
    "        \"expected_responses\": expected_responses,\n",
    "        \"qa_data\": qa_data\n",
    "    }\n",
    "\n",
    "    with open(output_json, 'w', encoding='utf-8') as f:\n",
    "        json.dump(output, f, ensure_ascii=False, indent=4)\n",
    "\n",
    "    #print(\"Final Q&A data saved to\", output_json)\n",
    "    return sample_queries, expected_responses, qa_data\n",
    "\n",
    "PDF_FILE = \"../knowledge/subset_monetary_policy_report.pdf\"\n",
    "sample_queries, expected_responses, qa_data = generate_qa_for_pdf(pdf_path=PDF_FILE)"
   ]
  },
  {
   "cell_type": "markdown",
   "metadata": {},
   "source": [
    "#### 4.1 (Load from file instead)"
   ]
  },
  {
   "cell_type": "code",
   "execution_count": null,
   "metadata": {},
   "outputs": [],
   "source": [
    "import json\n",
    "\n",
    "file_path = \"/Users/olofswedberg/Documents/thesis/masters-thesis/prototype/QA_subset_monetary_policy_report.json\"\n",
    "\n",
    "with open(file_path, 'r', encoding='utf-8') as f:\n",
    "    data = json.load(f)\n",
    "\n",
    "sample_queries = data[\"sample_queries\"]\n",
    "expected_responses = data[\"expected_responses\"]\n",
    "qa_data = data[\"qa_data\"]"
   ]
  },
  {
   "cell_type": "markdown",
   "metadata": {},
   "source": [
    "### 5. Initialize RAG & Create dataset for eval"
   ]
  },
  {
   "cell_type": "code",
   "execution_count": null,
   "metadata": {},
   "outputs": [],
   "source": [
    "rag = RAG(OPENAI_API_KEY)\n",
    "\n",
    "# Load documents\n",
    "pdf_path_list = [PDF_FILE]\n",
    "rag.load_documents(pdf_path_list)\n",
    "\n",
    "# Generate dataset\n",
    "dataset = []\n",
    "\n",
    "for query,reference in zip(sample_queries,expected_responses):\n",
    "\n",
    "    relevant_docs = rag.get_most_relevant_docs(query)\n",
    "    response = rag.generate_answer(query, relevant_docs)\n",
    "    dataset.append(\n",
    "        {\n",
    "            \"user_input\":query,\n",
    "            \"retrieved_contexts\":relevant_docs,\n",
    "            \"response\":response,\n",
    "            \"reference\":reference\n",
    "        }\n",
    "    )\n",
    "\n",
    "# Save the dataset to a JSON file\n",
    "output_dataset_file = \"generated_dataset.json\"\n",
    "with open(output_dataset_file, 'w', encoding='utf-8') as f:\n",
    "    json.dump(dataset, f, ensure_ascii=False, indent=4)"
   ]
  },
  {
   "cell_type": "markdown",
   "metadata": {},
   "source": [
    "#### 5.1 (Load the dataset to save time)"
   ]
  },
  {
   "cell_type": "code",
   "execution_count": null,
   "metadata": {},
   "outputs": [],
   "source": [
    "# Code to load the dataset\n",
    "with open(output_dataset_file, 'r', encoding='utf-8') as f:\n",
    "    dataset = json.load(f)"
   ]
  },
  {
   "cell_type": "markdown",
   "metadata": {},
   "source": [
    "### 6. Evaluate using RAGAs test"
   ]
  },
  {
   "cell_type": "code",
   "execution_count": null,
   "metadata": {},
   "outputs": [],
   "source": [
    "from langchain_openai import ChatOpenAI\n",
    "from langchain_openai import OpenAIEmbeddings\n",
    "from RAGasClass import RAG\n",
    "from config import OPENAI_API_KEY\n",
    "\n",
    "llm = ChatOpenAI(model=\"gpt-4o-mini\", openai_api_key=OPENAI_API_KEY)\n",
    "embeddings = OpenAIEmbeddings()\n",
    "\n",
    "# Initialize RAG instance\n",
    "rag = RAG(OPENAI_API_KEY)\n",
    "\n",
    "sample_queries = [\n",
    "    \"Who introduced the theory of relativity?\",\n",
    "    \"Who was the first computer programmer?\",\n",
    "    \"What did Isaac Newton contribute to science?\",\n",
    "    \"Who won two Nobel Prizes for research on radioactivity?\",\n",
    "    \"What is the theory of evolution by natural selection?\"\n",
    "]\n",
    "\n",
    "expected_responses = [\n",
    "    \"Albert Einstein proposed the theory of relativity, which transformed our understanding of time, space, and gravity.\",\n",
    "    \"Ada Lovelace is regarded as the first computer programmer for her work on Charles Babbage's early mechanical computer, the Analytical Engine.\",\n",
    "    \"Isaac Newton formulated the laws of motion and universal gravitation, laying the foundation for classical mechanics.\",\n",
    "    \"Marie Curie was a physicist and chemist who conducted pioneering research on radioactivity and won two Nobel Prizes.\",\n",
    "    \"Charles Darwin introduced the theory of evolution by natural selection in his book 'On the Origin of Species'.\"\n",
    "]\n",
    "\n",
    "sample_docs = [\n",
    "    \"Albert Einstein proposed the theory of relativity, which transformed our understanding of time, space, and gravity.\",\n",
    "    \"Marie Curie was a physicist and chemist who conducted pioneering research on radioactivity and won two Nobel Prizes.\",\n",
    "    \"Isaac Newton formulated the laws of motion and universal gravitation, laying the foundation for classical mechanics.\",\n",
    "    \"Charles Darwin introduced the theory of evolution by natural selection in his book 'On the Origin of Species'.\",\n",
    "    \"Ada Lovelace is regarded as the first computer programmer for her work on Charles Babbage's early mechanical computer, the Analytical Engine.\"\n",
    "]\n",
    "\n",
    "# Load documents\n",
    "# pdf_path_list = [\"sample_docs.pdf\"]\n",
    "# rag.load_documents(pdf_path_list)\n",
    "rag.load_documents(sample_docs)\n",
    "\n",
    "\n",
    "# Query and retrieve the most relevant document\n",
    "query = \"Who introduced the theory of relativity?\"\n",
    "relevant_docs = rag.get_most_relevant_docs(query)\n",
    "answer = rag.generate_answer(query, relevant_docs)\n",
    "\n",
    "print(f\"Query: {query}\")\n",
    "print(f\"Relevant Document: {relevant_docs}\")\n",
    "print(f\"Answer: {answer}\")\n",
    "\n",
    "\n",
    "\n"
   ]
  },
  {
   "cell_type": "markdown",
   "metadata": {},
   "source": [
    "#### 6.1 Prepare the data for RAGAs"
   ]
  },
  {
   "cell_type": "code",
   "execution_count": null,
   "metadata": {},
   "outputs": [],
   "source": [
    "dataset = []\n",
    "\n",
    "for query,reference in zip(sample_queries,expected_responses):\n",
    "    relevant_docs = rag.get_most_relevant_docs(query)\n",
    "    response = rag.generate_answer(query, relevant_docs)\n",
    "    dataset.append(\n",
    "        {\n",
    "            \"user_input\":query,\n",
    "            \"retrieved_contexts\": [doc['content'] for doc in  relevant_docs],\n",
    "            \"response\":response,\n",
    "            \"reference\":reference\n",
    "        }\n",
    "    )\n",
    "\n",
    "for i, entry in enumerate(dataset):\n",
    "    print(f\"Entry {i+1}:\")\n",
    "    print(f\"  User Input: {entry['user_input']}\")\n",
    "    print(f\"  Retrieved Contexts: {entry['retrieved_contexts']}\")\n",
    "    print(f\"  Response: {entry['response']}\")\n",
    "    print(f\"  Reference: {entry['reference']}\")\n",
    "    print(\"-\" * 40)\n",
    "\n",
    "\n",
    "from ragas import EvaluationDataset\n",
    "evaluation_dataset = EvaluationDataset.from_list(dataset)"
   ]
  },
  {
   "cell_type": "markdown",
   "metadata": {},
   "source": [
    "#### 6.2 Evaluate using RAGAs"
   ]
  },
  {
   "cell_type": "code",
   "execution_count": 4,
   "metadata": {},
   "outputs": [
    {
     "name": "stderr",
     "output_type": "stream",
     "text": [
      "Evaluating:   0%|          | 0/15 [00:00<?, ?it/s]huggingface/tokenizers: The current process just got forked, after parallelism has already been used. Disabling parallelism to avoid deadlocks...\n",
      "To disable this warning, you can either:\n",
      "\t- Avoid using `tokenizers` before the fork if possible\n",
      "\t- Explicitly set the environment variable TOKENIZERS_PARALLELISM=(true | false)\n",
      "Evaluating: 100%|██████████| 15/15 [00:30<00:00,  2.01s/it]\n"
     ]
    },
    {
     "data": {
      "text/plain": [
       "{'context_recall': 0.6000, 'faithfulness': 0.4104, 'factual_correctness': 0.6360}"
      ]
     },
     "execution_count": 4,
     "metadata": {},
     "output_type": "execute_result"
    }
   ],
   "source": [
    "from ragas import evaluate\n",
    "from ragas.llms import LangchainLLMWrapper\n",
    "\n",
    "\n",
    "evaluator_llm = LangchainLLMWrapper(llm)\n",
    "from ragas.metrics import LLMContextRecall, Faithfulness, FactualCorrectness\n",
    "\n",
    "result = evaluate(dataset=evaluation_dataset,metrics=[LLMContextRecall(), Faithfulness(), FactualCorrectness()],llm=evaluator_llm)\n",
    "result"
   ]
  }
 ],
 "metadata": {
  "kernelspec": {
   "display_name": "venv",
   "language": "python",
   "name": "python3"
  },
  "language_info": {
   "codemirror_mode": {
    "name": "ipython",
    "version": 3
   },
   "file_extension": ".py",
   "mimetype": "text/x-python",
   "name": "python",
   "nbconvert_exporter": "python",
   "pygments_lexer": "ipython3",
   "version": "3.13.1"
  },
  "orig_nbformat": 4,
  "vscode": {
   "interpreter": {
    "hash": "34d35bb7a41995741358303864c0abd463933b7f4684d12ed372b9f8e1810ab1"
   }
  }
 },
 "nbformat": 4,
 "nbformat_minor": 2
}
