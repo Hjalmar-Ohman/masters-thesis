{
 "cells": [
  {
   "cell_type": "markdown",
   "metadata": {},
   "source": [
    "### 1. INSTALL / IMPORT LIBRARIES"
   ]
  },
  {
   "cell_type": "code",
   "execution_count": null,
   "metadata": {},
   "outputs": [],
   "source": [
    "import os\n",
    "import numpy as np\n",
    "import faiss\n",
    "\n",
    "from common_utils import call_gpt_4\n",
    "from prototype.multimodal_embedder import create_embedder\n",
    "\n",
    "from multimodal_rag import MultimodalRAG"
   ]
  },
  {
   "cell_type": "markdown",
   "metadata": {},
   "source": [
    "### 2. Configuration"
   ]
  },
  {
   "cell_type": "code",
   "execution_count": null,
   "metadata": {},
   "outputs": [],
   "source": [
    "PDF_FILE = \"../knowledge/subset_monetary_policy_report.pdf\"\n",
    "EMBEDDER = \"CLIP\"\n",
    "\n",
    "rag = MultimodalRAG(pdf_file=PDF_FILE, embedder=create_embedder(EMBEDDER))"
   ]
  },
  {
   "cell_type": "markdown",
   "metadata": {},
   "source": [
    "### Example Usage"
   ]
  },
  {
   "cell_type": "code",
   "execution_count": null,
   "metadata": {},
   "outputs": [],
   "source": [
    "user_query = \"21 Figure 9. Non-financial companies’ debts SEK billion \\n  Note. Refers to Swedish non-financial companies, including tenant-owner housing associations.\"\n",
    "relevant_docs = rag.get_most_relevant_docs(user_query)\n",
    "answer = rag.generate_answer(user_query, relevant_docs)\n",
    "\n",
    "\n",
    "print(\"\\nQ:\", user_query)\n",
    "print(\"A:\", answer)\n"
   ]
  }
 ],
 "metadata": {
  "kernelspec": {
   "display_name": "venv",
   "language": "python",
   "name": "python3"
  },
  "language_info": {
   "codemirror_mode": {
    "name": "ipython",
    "version": 3
   },
   "file_extension": ".py",
   "mimetype": "text/x-python",
   "name": "python",
   "nbconvert_exporter": "python",
   "pygments_lexer": "ipython3",
   "version": "3.12.5"
  }
 },
 "nbformat": 4,
 "nbformat_minor": 2
}
